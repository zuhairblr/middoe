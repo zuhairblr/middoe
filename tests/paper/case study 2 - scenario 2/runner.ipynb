{
 "cells": [
  {
   "metadata": {
    "collapsed": true
   },
   "cell_type": "code",
   "source": [
    "theta = [50000, 75000, 0.4116, 111900, 9905, 30000]\n",
    "theta_n = [100000, 100000, 1, 100000, 100, 10000]\n",
    "theta_mins = [10000, 0, 0.1, 50000, 10, 10000]\n",
    "theta_maxs = [1000000, 200000, 10, 200000, 10000, 200000]"
   ],
   "id": "initial_id",
   "outputs": [],
   "execution_count": null
  },
  {
   "metadata": {},
   "cell_type": "code",
   "source": [
    "system = {\n",
    "    'tvi': {  # Time-variant input variables (models input: tvi), each key is a symbol nad key in tvi as well\n",
    "        'u1': {  # Temperature (K)\n",
    "            'stps': 6,  # Number of switching times in CVPs (vector parametrisation resolution in time dimension):\n",
    "            # Must be a positive integer > 1. swps-1 is the number of steps\n",
    "            'const': 'inc',  # Constraint type: relative state of signal levels in CVPs\n",
    "            # 'rel' (relative) ensures relaxation, 'dec' (decreasing) ensures decreasing signal levels, 'inc' (increasing) ensures increasing signal levels\n",
    "            'max': 306.15,  # Maximum allowable signal level, des_opt space upper bound\n",
    "            'min': 296.15,  # Minimum allowable signal level, des_opt space lower bound\n",
    "            'cvp': 'LPF',  # Design CVP method (CPF - constant profile, LPF - linear profile)\n",
    "            'offl': 0.01,  # minimum allowed perturbation of signal (ratio)\n",
    "            'offt': 0.3  # minimum allowed perturbation of time (ratio)\n",
    "        },\n",
    "    },\n",
    "    'tvo': {  # Time-variant output variables (responses, measured or unmeasured)\n",
    "        'y1': {  # response variable, here carbonation efficiency\n",
    "            'init': 0,  # Initial value for the response variable, it can be a value, or 'variable' for case it is a des_opt decision (time-invariant input variable)\n",
    "            'meas': True,  # Flag indicating if this variable is directly measurable, if False, it is a virtual output\n",
    "            'sp': 17,  # the amound of samples per each round (run)\n",
    "            'unc': 0.01,  # amount of noise (standard deviation) in the measurement, in case of insilico, this is used for simulating a normal distribution of noise to measurement (only measurement)\n",
    "            'offt': 0.3,  # minimum allowed perturbation of sampling times (ratio)\n",
    "            'samp_s': 1,  # Matching criterion for models prediction and data alignment\n",
    "            'samp_f': [0, 16],  # fixed sampling times\n",
    "        },\n",
    "        'y2': {  # response variable, here carbonation efficiency\n",
    "            'init': 0,  # Initial value for the response variable, it can be a value, or 'variable' for case it is a des_opt decision (time-invariant input variable)\n",
    "            'meas': True,  # Flag indicating if this variable is directly measurable, if False, it is a virtual output\n",
    "            'sp': 17,  # the amound of samples per each round (run)\n",
    "            'unc': 0.01,  # amount of noise (standard deviation) in the measurement, in case of insilico, this is used for simulating a normal distribution of noise to measurement (only measurement)\n",
    "            'offt': 0.3,  # minimum allowed perturbation of sampling times (ratio)\n",
    "            'samp_s': 1,  # Matching criterion for models prediction and data alignment\n",
    "            'samp_f': [0, 16],  # fixed sampling times\n",
    "        },\n",
    "        'y3': {  # response variable, here carbonation efficiency\n",
    "            'init': 0,\n",
    "            # Initial value for the response variable, it can be a value, or 'variable' for case it is a des_opt decision (time-invariant input variable)\n",
    "            'meas': True,\n",
    "            # Flag indicating if this variable is directly measurable, if False, it is a virtual output\n",
    "            'sp': 17,  # the amound of samples per each round (run)\n",
    "            'unc': 0.01,\n",
    "            # amount of noise (standard deviation) in the measurement, in case of insilico, this is used for simulating a normal distribution of noise to measurement (only measurement)\n",
    "            'offt': 0.3,  # minimum allowed perturbation of sampling times (ratio)\n",
    "            'samp_s': 1,  # Matching criterion for models prediction and data alignment\n",
    "            'samp_f': [0, 16],  # fixed sampling times\n",
    "        },\n",
    "    },\n",
    "    'tii': {  # Time-invariant input variables (tii)\n",
    "        'y10': {  # 1st symbolic time-invariant control, Density of solid reactant (kg/m³)\n",
    "            'max': 1,  # Maximum allowable signal level, des_opt space upper bound\n",
    "            'min': 0.3  # Minimum allowable signal level, des_opt space upper bound\n",
    "        },\n",
    "        'y20': {  # 1st symbolic time-invariant control, Density of solid reactant (kg/m³)\n",
    "            'max': 1,  # Maximum allowable signal level, des_opt space upper bound\n",
    "            'min': 0.19  # Minimum allowable signal level, des_opt space upper bound\n",
    "        },\n",
    "    },\n",
    "    'tio': {  # Time-invariant output variables (empty here, could hold steady state responses that hold no dependency)\n",
    "    },\n",
    "    't_s': [0, 16],  # Time span  (600 s to 10,800 s), duration of numerical perturbations (the rest is precluded from des_opt)\n",
    "    't_r': 0.02,  # Time resolution (10 s), minimum time steps for the simulation/des_opt/controls\n",
    "    't_d': 0.3\n",
    "}\n",
    "\n",
    "models = { # Settings related to the rival models and their parameters\n",
    "    'can_m': ['M'],  # Active solvers (rival models) to be used in the experiment\n",
    "    'krt': {'M': 'pys'},  # Kernel type for each model, 'pys' for python standalone scripts, 'pym' for middoe.krnl_models, 'gpr' for gPAS models\n",
    "    # type of the model interface, 'pym' for middoe.krnl_models, 'gpr' for gPAS models, function name for globally defined functions, 'pys' for python standalone scripts\n",
    "    'creds': {'M': '@@TTmnoa698'},\n",
    "    # credentials for gPAS models, if not needed, leave empty\n",
    "    'src': {'M': 'C:/Users/Tadmin/PycharmProjects/middoe/tests/paper/case study 2 - scenario 2/model.py'},\n",
    "    # for now for gPAS readable files, or python standalone scripts\n",
    "\n",
    "    'theta': { # Theta parameters for each models\n",
    "        'M': theta_n\n",
    "    },\n",
    "    't_u': { # Maximum bounds for theta parameters (based on normalized to'f20': theta20mins, 1)\n",
    "        'M': theta_maxs\n",
    "    },\n",
    "    't_l': { # Minimum bounds for theta parameters (based on normalized to 1)\n",
    "        'M': theta_mins\n",
    "    },\n",
    "    'mutation': { # Mutation settings for each model\n",
    "        'M': [False, False, True, True, True, True]  # Mutation for each parameter in the model\n",
    "    }\n",
    "}"
   ],
   "id": "db61352672cfaa44",
   "outputs": [],
   "execution_count": null
  },
  {
   "metadata": {},
   "cell_type": "code",
   "source": [
    "insilicos = { # Settings for the insilico data generation\n",
    "    'tr_m': 'M', # selected true models (with nominal values)\n",
    "    'theta': theta,\n",
    "    'errt': 'abs',  # error type, 'rel' for relative error, 'abs' for absolute error\n",
    "    'prels': { # classic des_opt settings, sheet name is the round run name, each sheet contains the data for the round, iso space.\n",
    "    }\n",
    "}"
   ],
   "id": "3bbf0f9c46c01b09",
   "outputs": [],
   "execution_count": null
  },
  {
   "metadata": {},
   "cell_type": "code",
   "source": [
    "gsa = { # Settings for the Global Sensitivity Analysis (gsa)\n",
    "    'var_s': False,  # Perform sensitivity analysis for variables\n",
    "    'par_s': True,  # Perform sensitivity analysis for parameters\n",
    "    'var_d': False, # feasible space for variables, fload ratio: use as multiplier to nominals uniformly (e.g. 1.1), False: use system defined space\n",
    "    'par_d': False,   # feasible space for parameters, fload ratio: use as multiplier to nominals uniformly(e.g. 1.1), False: use models defined space\n",
    "    'samp': 2 ** 12,  # Sampling size for gsa, always 2**n\n",
    "    'multi': 0.7,  # Perform gsa in parallel\n",
    "    'tii_n': [0.508,0.3925], # Nominal values for the time-invariant variables\n",
    "    'tvi_n': [301.15], # Nominal values for the time-variant variables\n",
    "    'plt': True,  # Plot the results\n",
    "}\n",
    "from middoe.sc_sensa import sensa\n",
    "sobol_results = sensa(gsa, models, system)\n",
    "from middoe.log_utils import save_to_jac\n",
    "save_to_jac(sobol_results, purpose=\"sensa\")\n",
    "from middoe.log_utils import load_from_jac, save_to_xlsx\n",
    "results = load_from_jac()\n",
    "sensa = results['sensa']\n",
    "save_to_xlsx(sensa)"
   ],
   "id": "3dd5b7d0095f4bb6",
   "outputs": [],
   "execution_count": null
  },
  {
   "metadata": {},
   "cell_type": "code",
   "source": [
    "des_opt = { # Design settings for the experiment\n",
    "    'eps': 1e-5, #perturbation size of parameters in SA FDM method (in a normalized to 1 space)\n",
    "    'md_ob': 'BFF',     # MD optimality criterion, 'HR': Hunter and Reiner, 'BFF': Buzzi-Ferraris and Forzatti\n",
    "    'pp_ob': 'D',  # PP optimality criterion, 'D', 'A', 'E', 'ME'\n",
    "    'plt': True,  # Plot the results\n",
    "    'meth': 'PS',\n",
    "    # optimisation method, 'G': Global Differential Evolution, 'L': Local Pattern Search, 'GL': Global Differential Evolution refined with Local Pattern Search\n",
    "    'itr': {\n",
    "        'pps': 100, # population size\n",
    "        'maxmd': 5, # maximum number of MD runs\n",
    "        'tolmd': 1, # tolerance for MD optimization\n",
    "        'maxpp':200 ,# maximum number of PP runs\n",
    "        'tolpp': 1, # tolerance for PP optimization\n",
    "    }\n",
    "}"
   ],
   "id": "e5b10eec1aa6a62a",
   "outputs": [],
   "execution_count": null
  },
  {
   "metadata": {},
   "cell_type": "code",
   "source": [
    "iden_opt = { # Settings for the parameter estimation process\n",
    "    'meth': 'LBFGSB',  #'SLSQP', 'SQP', 'DE', 'NM', 'BFGS', 'LBFGSB'\n",
    "    'ms': True, # multi starting   # True or False\n",
    "    'maxit': 500,\n",
    "    'tol': 0.1,\n",
    "    'sens_m': 'central', # 'central',  and 'forward' for FDM precision\n",
    "    'var-cov': 'B', # 'H' for based on hessidan, and 'M' for based on fisher\n",
    "    'nboot':500,\n",
    "    'init': None,   # use 'rand' to have random starting point and use None to start from theta_parameters nominal values (to be avoided in insilico studies)\n",
    "    'eps': 1e-5,  # perturbation size of parameters in SA FDM method (in a normalized to 1 space)e-\n",
    "    #usually 1e-3, or None to perform a mesh independency test, and auto adjustment\n",
    "    'ob': 'WLS',  #loss function, 'LS': least squares, 'MLE': maximum likelihood, 'Chi': chi-square, 'WLS': weighted least squares\n",
    "    'c_plt': False, # plot the confidence volumes\n",
    "    'f_plt': False, # plot the fitting results\n",
    "    'plt_s': True, # show plots while saving\n",
    "    'log': False # log the results\n",
    "}"
   ],
   "id": "cebed4c4130dc003",
   "outputs": [],
   "execution_count": null
  },
  {
   "metadata": {},
   "cell_type": "code",
   "source": [
    "from middoe.des_pp import mbdoe_pp\n",
    "designs = mbdoe_pp(des_opt, system, models, round=1, num_parallel_runs=16)"
   ],
   "id": "ce5f1252d84acb97",
   "outputs": [],
   "execution_count": null
  },
  {
   "metadata": {},
   "cell_type": "code",
   "source": [
    "from middoe.krnl_expera import expera\n",
    "expera(system, models, insilicos, designs, expr=1, swps=designs['swps'])"
   ],
   "id": "c9b6a7b73641fc17",
   "outputs": [],
   "execution_count": null
  },
  {
   "metadata": {},
   "cell_type": "code",
   "source": [
    "from middoe.log_utils import  read_excel\n",
    "data = read_excel('indata')\n",
    "from middoe.iden_parmest import parmest\n",
    "resultpr = parmest(system, models, iden_opt, data, case='strov')"
   ],
   "id": "3f94822362a0eadf",
   "outputs": [],
   "execution_count": null
  },
  {
   "metadata": {},
   "cell_type": "code",
   "source": [
    "import numpy as np\n",
    "import matplotlib.pyplot as plt\n",
    "from matplotlib.patches import Ellipse\n",
    "from scipy.stats import truncnorm, chi2\n",
    "from matplotlib.ticker import ScalarFormatter\n",
    "round = 1\n",
    "def plot_trunc_corr_matrix_from_raw(resultpr, round, solver='M', scpr_key='scpr',\n",
    "                                    param_names=None, dot_size=5, alpha=0.5, bins=100,\n",
    "                                    figsize=13, margin_frac=0.3, show=True):\n",
    "    \"\"\"\n",
    "    Corner-style plot from raw bootstrap samples (resultpr):\n",
    "    - Diagonal: histogram of raw samples with fitted truncated-normal PDF\n",
    "    - Off-diagonal: scatter + 95% confidence ellipse from truncated covariance matrix\n",
    "\n",
    "    Requires resultpr[solver] to contain:\n",
    "        - 'X'             → raw sample matrix (N × d)\n",
    "        - 'scpr'          → truncated mean\n",
    "        - 'v'             → truncated covariance\n",
    "    \"\"\"\n",
    "    # Validate input\n",
    "    data_block = resultpr.get(solver, {})\n",
    "    if 'X' not in data_block or 'scpr' not in data_block or 'v' not in data_block:\n",
    "        raise ValueError(f\"Missing required data in resultpr[{solver}]: 'X', 'scpr', or 'v'.\")\n",
    "\n",
    "    X = data_block['X']\n",
    "    mu = data_block[scpr_key]\n",
    "    cov = data_block['v']\n",
    "    N, ndim = X.shape\n",
    "\n",
    "    if param_names is None:\n",
    "        param_names = [f\"P{i+1}\" for i in range(ndim)]\n",
    "\n",
    "    # Plot setup\n",
    "    data_min = np.min(X, axis=0)\n",
    "    data_max = np.max(X, axis=0)\n",
    "    data_range = data_max - data_min\n",
    "    margin = margin_frac * data_range\n",
    "    xminn = data_min - margin\n",
    "    xmaxn = data_max + margin\n",
    "\n",
    "    fig, axes = plt.subplots(ndim, ndim, figsize=(figsize, figsize), squeeze=False)\n",
    "\n",
    "    for i in range(ndim):\n",
    "        for j in range(ndim):\n",
    "            ax = axes[i, j]\n",
    "\n",
    "            if i == j:\n",
    "                formatter = ScalarFormatter(useMathText=True)\n",
    "                formatter.set_powerlimits((-2, 2))\n",
    "                ax.xaxis.set_major_formatter(formatter)\n",
    "                ax.yaxis.set_major_formatter(formatter)\n",
    "                # Diagonal: histogram + fitted truncated PDF\n",
    "                xvals = X[:, i]\n",
    "                spread = np.ptp(xvals)\n",
    "                loc_bins = max(10, min(bins, int(np.sqrt(len(xvals)))))\n",
    "                hist_range = (data_min[i], data_max[i])\n",
    "\n",
    "                if spread < 1e-12:\n",
    "                    ax.axvline(mu[i], color='red', linestyle='--', linewidth=1.5)\n",
    "                    ax.text(mu[i], 0.5, \"flat\", rotation=90,\n",
    "                            va='center', ha='center', transform=ax.get_yaxis_transform(),\n",
    "                            color='gray', fontsize=8)\n",
    "                    ax.set_xlim(mu[i] - 1, mu[i] + 1)\n",
    "                else:\n",
    "                    counts, bins_, _ = ax.hist(xvals, bins=loc_bins, range=hist_range,\n",
    "                                               color='gray', alpha=0.7, density=True)\n",
    "\n",
    "                    # Truncnorm PDF fitted on empirical data\n",
    "                    mu_emp = np.mean(xvals)\n",
    "                    sigma_emp = np.std(xvals, ddof=1)\n",
    "                    a = (data_min[i] - mu_emp) / sigma_emp\n",
    "                    b = (data_max[i] - mu_emp) / sigma_emp\n",
    "                    bin_centers = 0.5 * (bins_[:-1] + bins_[1:])\n",
    "                    pdf_vals = truncnorm.pdf(bin_centers, a=a, b=b, loc=mu_emp, scale=sigma_emp)\n",
    "\n",
    "                    if np.max(pdf_vals) > 0:\n",
    "                        pdf_vals *= np.max(counts) / np.max(pdf_vals)\n",
    "\n",
    "                    ax.plot(bin_centers, pdf_vals, color='red', linewidth=1.5)\n",
    "                    ax.set_xlim(data_min[i], data_max[i])\n",
    "\n",
    "            else:\n",
    "\n",
    "                # Off-diagonal: scatter and 95% ellipse from truncated cov\n",
    "                ax.scatter(X[:, j], X[:, i], s=dot_size, alpha=alpha, color='black')\n",
    "\n",
    "                try:\n",
    "                    sub_cov = cov[np.ix_([j, i], [j, i])]\n",
    "                    vals, vecs = np.linalg.eigh(sub_cov)\n",
    "                    order = vals.argsort()[::-1]\n",
    "                    vals = vals[order]\n",
    "                    vecs = vecs[:, order]\n",
    "                    angle = np.degrees(np.arctan2(*vecs[:, 0][::-1]))\n",
    "                    width, height = 2 * np.sqrt(chi2.ppf(0.95, 2)) * np.sqrt(np.maximum(vals, 1e-12))\n",
    "                    ellipse = Ellipse(xy=(mu[j], mu[i]), width=width, height=height,\n",
    "                                      angle=angle, edgecolor='red', facecolor='none', lw=1)\n",
    "                    ax.add_patch(ellipse)\n",
    "                except Exception as e:\n",
    "                    print(f\"Ellipse error at ({i},{j}):\", e)\n",
    "\n",
    "                formatter = ScalarFormatter(useMathText=True)\n",
    "                formatter.set_powerlimits((-2, 2))\n",
    "                ax.xaxis.set_major_formatter(formatter)\n",
    "                ax.yaxis.set_major_formatter(formatter)\n",
    "                ax.set_xlim(xminn[j], xmaxn[j])\n",
    "                ax.set_ylim(xminn[i], xmaxn[i])\n",
    "\n",
    "            if i == ndim - 1:\n",
    "                ax.set_xlabel(param_names[j])\n",
    "            else:\n",
    "                ax.set_xticks([])\n",
    "\n",
    "            if j == 0:\n",
    "                ax.set_ylabel(param_names[i])\n",
    "            else:\n",
    "                ax.set_yticks([])\n",
    "\n",
    "    fig.tight_layout()\n",
    "    # Save as SVG with transparent background and high quality\n",
    "    fig.savefig(f\"ellipseboot_{round}.svg\", format='svg', dpi=300, transparent=True)\n",
    "\n",
    "    if show:\n",
    "        plt.show()\n",
    "\n",
    "    return fig, axes\n",
    "\n",
    "fig, axes = plot_trunc_corr_matrix_from_raw(resultpr, round, solver='M')"
   ],
   "id": "9bb5c21b8fab61e7",
   "outputs": [],
   "execution_count": null
  },
  {
   "metadata": {},
   "cell_type": "code",
   "source": [
    "from middoe.iden_uncert import uncert\n",
    "uncert_results = uncert(data, resultpr, system, models, iden_opt)\n",
    "resultun = uncert_results['results']\n",
    "obs = uncert_results['obs']"
   ],
   "id": "9ad7f1ad41a497f9",
   "outputs": [],
   "execution_count": null
  },
  {
   "metadata": {},
   "cell_type": "code",
   "source": [
    "from middoe.sc_estima import estima\n",
    "ranking, k_optimal_value, rCC_values, J_k_values, best_uncert_result = estima(resultun, system, models, iden_opt, round, data)"
   ],
   "id": "8760ac13e3569d0a",
   "outputs": [],
   "execution_count": null
  },
  {
   "metadata": {},
   "cell_type": "code",
   "source": [
    "from middoe.log_utils import  save_rounds\n",
    "round_data={}\n",
    "save_rounds(round, resultun,  'preliminary', round_data, models, iden_opt, obs, data, system, ranking= ranking, k_optimal_value= k_optimal_value, rCC_values= rCC_values, J_k_values= J_k_values,  best_uncert_result= best_uncert_result)"
   ],
   "id": "72bc6e26f0f21164",
   "outputs": [],
   "execution_count": null
  },
  {
   "metadata": {},
   "cell_type": "code",
   "source": [
    "des_opt = { # Design settings for the experiment\n",
    "    'eps': 1e-5, #perturbation size of parameters in SA FDM method (in a normalized to 1 space)\n",
    "    'md_ob': 'BFF',     # MD optimality criterion, 'HR': Hunter and Reiner, 'BFF': Buzzi-Ferraris and Forzatti\n",
    "    'pp_ob': 'E',  # PP optimality criterion, 'D', 'A', 'E', 'ME'\n",
    "    'plt': True,  # Plot the results\n",
    "    'meth': 'PS',\n",
    "    # optimisation method, 'G': Global Differential Evolution, 'L': Local Pattern Search, 'GL': Global Differential Evolution refined with Local Pattern Search\n",
    "    'itr': {\n",
    "        'pps': 100, # population size\n",
    "        'maxmd': 5, # maximum number of MD runs\n",
    "        'tolmd': 1, # tolerance for MD optimization\n",
    "        'maxpp':100 ,# maximum number of PP runs\n",
    "        'tolpp': 1, # tolerance for PP optimization\n",
    "    }\n",
    "}"
   ],
   "id": "2aa0c8ea845bfcdc",
   "outputs": [],
   "execution_count": null
  },
  {
   "metadata": {},
   "cell_type": "code",
   "source": [
    "from middoe.des_pp import mbdoe_pp\n",
    "round = 2\n",
    "designs = mbdoe_pp(des_opt, system, models, round=round, num_parallel_runs=16)"
   ],
   "id": "c2ff2fad1ef46ccf",
   "outputs": [],
   "execution_count": null
  },
  {
   "metadata": {},
   "cell_type": "code",
   "source": [
    "from middoe.krnl_expera import expera\n",
    "expera(system, models, insilicos, designs, expr=round, swps=designs['swps'])"
   ],
   "id": "ed368b3292ee7416",
   "outputs": [],
   "execution_count": null
  },
  {
   "metadata": {},
   "cell_type": "code",
   "source": [
    "from middoe.log_utils import  read_excel\n",
    "data = read_excel('indata')\n",
    "from middoe.iden_parmest import parmest\n",
    "resultpr = parmest(system, models, iden_opt, data, case='strov')"
   ],
   "id": "e9e4a526041f20a9",
   "outputs": [],
   "execution_count": null
  },
  {
   "metadata": {},
   "cell_type": "code",
   "source": "fig, axes = plot_trunc_corr_matrix_from_raw(resultpr, round, solver='M')",
   "id": "6ab5989764634cc6",
   "outputs": [],
   "execution_count": null
  },
  {
   "metadata": {},
   "cell_type": "code",
   "source": [
    "from middoe.iden_uncert import uncert\n",
    "uncert_results = uncert(data, resultpr, system, models, iden_opt)\n",
    "resultun = uncert_results['results']\n",
    "obs = uncert_results['obs']"
   ],
   "id": "b70f55d7d34c7ece",
   "outputs": [],
   "execution_count": null
  },
  {
   "metadata": {},
   "cell_type": "code",
   "source": [
    "from middoe.sc_estima import estima\n",
    "ranking, k_optimal_value, rCC_values, J_k_values, best_uncert_result = estima(resultun, system, models, iden_opt, round, data)"
   ],
   "id": "21a78757d4e7cec0",
   "outputs": [],
   "execution_count": null
  },
  {
   "metadata": {},
   "cell_type": "code",
   "source": [
    "from middoe.log_utils import  save_rounds\n",
    "save_rounds(round, resultun,  'preliminary', round_data, models, iden_opt, obs, data, system, ranking= ranking, k_optimal_value= k_optimal_value, rCC_values= rCC_values, J_k_values= J_k_values,  best_uncert_result= best_uncert_result)"
   ],
   "id": "64ac33ebe8366949",
   "outputs": [],
   "execution_count": null
  },
  {
   "metadata": {},
   "cell_type": "code",
   "source": "",
   "id": "1076af3467c93a60",
   "outputs": [],
   "execution_count": null
  },
  {
   "metadata": {},
   "cell_type": "code",
   "source": [
    "from middoe.des_pp import mbdoe_pp\n",
    "round = 3\n",
    "designs = mbdoe_pp(des_opt, system, models, round=round, num_parallel_runs=16)"
   ],
   "id": "2fd6019a16620c5",
   "outputs": [],
   "execution_count": null
  },
  {
   "metadata": {},
   "cell_type": "code",
   "source": [
    "from middoe.krnl_expera import expera\n",
    "expera(system, models, insilicos, designs, expr=round, swps=designs['swps'])"
   ],
   "id": "fefcb290139ce47f",
   "outputs": [],
   "execution_count": null
  },
  {
   "metadata": {},
   "cell_type": "code",
   "source": [
    "from middoe.log_utils import  read_excel\n",
    "data = read_excel('indata')\n",
    "from middoe.iden_parmest import parmest\n",
    "resultpr = parmest(system, models, iden_opt, data, case='strov')"
   ],
   "id": "65e794963ebba9d1",
   "outputs": [],
   "execution_count": null
  },
  {
   "metadata": {},
   "cell_type": "code",
   "source": "fig, axes = plot_trunc_corr_matrix_from_raw(resultpr, round, solver='M')",
   "id": "91906a60f2b305d1",
   "outputs": [],
   "execution_count": null
  },
  {
   "metadata": {},
   "cell_type": "code",
   "source": [
    "from middoe.iden_uncert import uncert\n",
    "uncert_results = uncert(data, resultpr, system, models, iden_opt)\n",
    "resultun = uncert_results['results']\n",
    "obs = uncert_results['obs']"
   ],
   "id": "e133edc276fa0be4",
   "outputs": [],
   "execution_count": null
  },
  {
   "metadata": {},
   "cell_type": "code",
   "source": [
    "from middoe.sc_estima import estima\n",
    "ranking, k_optimal_value, rCC_values, J_k_values, best_uncert_result = estima(resultun, system, models, iden_opt, round, data)"
   ],
   "id": "c7f25d8aac1e86eb",
   "outputs": [],
   "execution_count": null
  },
  {
   "metadata": {},
   "cell_type": "code",
   "source": [
    "from middoe.log_utils import  save_rounds\n",
    "save_rounds(round, resultun,  'preliminary', round_data, models, iden_opt, obs, data, system, ranking= ranking, k_optimal_value= k_optimal_value, rCC_values= rCC_values, J_k_values= J_k_values,  best_uncert_result= best_uncert_result)"
   ],
   "id": "6bdcd445ad682a31",
   "outputs": [],
   "execution_count": null
  },
  {
   "metadata": {},
   "cell_type": "code",
   "source": [
    "from middoe.des_pp import mbdoe_pp\n",
    "round = 4\n",
    "designs = mbdoe_pp(des_opt, system, models, round=round, num_parallel_runs=16)"
   ],
   "id": "8fb8e674c23306f9",
   "outputs": [],
   "execution_count": null
  },
  {
   "metadata": {},
   "cell_type": "code",
   "source": [
    "from middoe.krnl_expera import expera\n",
    "expera(system, models, insilicos, designs, expr=round, swps=designs['swps'])"
   ],
   "id": "b6a1b627bf06272c",
   "outputs": [],
   "execution_count": null
  },
  {
   "metadata": {},
   "cell_type": "code",
   "source": [
    "from middoe.log_utils import  read_excel\n",
    "data = read_excel('indata')\n",
    "from middoe.iden_parmest import parmest\n",
    "resultpr = parmest(system, models, iden_opt, data, case='strov')"
   ],
   "id": "e0d242fff09d0d30",
   "outputs": [],
   "execution_count": null
  },
  {
   "metadata": {},
   "cell_type": "code",
   "source": "fig, axes = plot_trunc_corr_matrix_from_raw(resultpr, round, solver='M')",
   "id": "64085bcb3ecfc3a9",
   "outputs": [],
   "execution_count": null
  },
  {
   "metadata": {},
   "cell_type": "code",
   "source": [
    "from middoe.iden_uncert import uncert\n",
    "uncert_results = uncert(data, resultpr, system, models, iden_opt)\n",
    "resultun = uncert_results['results']\n",
    "obs = uncert_results['obs']"
   ],
   "id": "f1a7df4abe893bbd",
   "outputs": [],
   "execution_count": null
  },
  {
   "metadata": {},
   "cell_type": "code",
   "source": [
    "from middoe.sc_estima import estima\n",
    "ranking, k_optimal_value, rCC_values, J_k_values, best_uncert_result = estima(resultun, system, models, iden_opt, round, data)"
   ],
   "id": "e739d70ce2fd047a",
   "outputs": [],
   "execution_count": null
  },
  {
   "metadata": {},
   "cell_type": "code",
   "source": [
    "from middoe.log_utils import  save_rounds\n",
    "save_rounds(round, resultun,  'preliminary', round_data, models, iden_opt, obs, data, system, ranking= ranking, k_optimal_value= k_optimal_value, rCC_values= rCC_values, J_k_values= J_k_values,  best_uncert_result= best_uncert_result)"
   ],
   "id": "42958f9a030b1cc0",
   "outputs": [],
   "execution_count": null
  },
  {
   "metadata": {},
   "cell_type": "code",
   "source": [
    "from middoe.iden_valida import validation\n",
    "validres= validation(data, system, models, iden_opt, round_data)"
   ],
   "id": "bdec4ef1374b35b6",
   "outputs": [],
   "execution_count": null
  },
  {
   "metadata": {},
   "cell_type": "code",
   "source": [
    "from middoe.log_utils import save_to_jac\n",
    "save_to_jac(round_data, purpose=\"iden\")"
   ],
   "id": "2d9b14775565e7d4",
   "outputs": [],
   "execution_count": null
  },
  {
   "metadata": {},
   "cell_type": "code",
   "source": [
    "from middoe.log_utils import load_from_jac\n",
    "results = load_from_jac()\n",
    "iden = results['iden']"
   ],
   "id": "8be73e39abe7e403",
   "outputs": [],
   "execution_count": null
  },
  {
   "metadata": {},
   "cell_type": "code",
   "source": [
    "from middoe.log_utils import load_from_jac\n",
    "results = load_from_jac()\n",
    "iden = results['iden']\n",
    "\n",
    "from middoe.iden_utils import run_postprocessing\n",
    "run_postprocessing(\n",
    "    round_data=results['iden'],\n",
    "    solvers=['M'],\n",
    "    selected_rounds=[ 1, 2, 3, 4],\n",
    "    plot_global_p_and_t=True,\n",
    "    plot_confidence_spaces=True,\n",
    "    plot_p_and_t_tests=True,\n",
    "    export_excel_reports=True,\n",
    "    plot_estimability=True\n",
    ")"
   ],
   "id": "4d37e1a5de183ca8",
   "outputs": [],
   "execution_count": null
  }
 ],
 "metadata": {
  "kernelspec": {
   "display_name": "Python 3",
   "language": "python",
   "name": "python3"
  },
  "language_info": {
   "codemirror_mode": {
    "name": "ipython",
    "version": 2
   },
   "file_extension": ".py",
   "mimetype": "text/x-python",
   "name": "python",
   "nbconvert_exporter": "python",
   "pygments_lexer": "ipython2",
   "version": "2.7.6"
  }
 },
 "nbformat": 4,
 "nbformat_minor": 5
}
