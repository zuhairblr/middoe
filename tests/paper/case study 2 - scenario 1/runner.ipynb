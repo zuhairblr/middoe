{
 "cells": [
  {
   "metadata": {
    "collapsed": true
   },
   "cell_type": "code",
   "source": [
    "theta = [50000, 75000, 0.4116, 111900, 9905, 30000]\n",
    "theta_n = [100000, 100000, 1, 100000, 100, 10000]\n",
    "theta_mins = [10000, 0, 0.1, 50000, 10, 10000]\n",
    "theta_maxs = [1000000, 200000, 10, 200000, 10000, 200000]"
   ],
   "id": "initial_id",
   "outputs": [],
   "execution_count": null
  },
  {
   "metadata": {},
   "cell_type": "code",
   "source": [
    "system = {\n",
    "    'tvi': {  # Time-variant input variables (models input: tvi), each key is a symbol nad key in tvi as well\n",
    "        'u1': {  # Temperature (K)\n",
    "            'stps': 6,  # Number of switching times in CVPs (vector parametrisation resolution in time dimension):\n",
    "            # Must be a positive integer > 1. swps-1 is the number of steps\n",
    "            'const': 'inc',  # Constraint type: relative state of signal levels in CVPs\n",
    "            # 'rel' (relative) ensures relaxation, 'dec' (decreasing) ensures decreasing signal levels, 'inc' (increasing) ensures increasing signal levels\n",
    "            'max': 306.15,  # Maximum allowable signal level, des_opt space upper bound\n",
    "            'min': 296.15,  # Minimum allowable signal level, des_opt space lower bound\n",
    "            'cvp': 'LPF',  # Design CVP method (CPF - constant profile, LPF - linear profile)\n",
    "            'offl': 0.01,  # minimum allowed perturbation of signal (ratio)\n",
    "            'offt': 0.3  # minimum allowed perturbation of time (ratio)\n",
    "        },\n",
    "    },\n",
    "    'tvo': {  # Time-variant output variables (responses, measured or unmeasured)\n",
    "        'y1': {  # response variable, here carbonation efficiency\n",
    "            'init': 0,  # Initial value for the response variable, it can be a value, or 'variable' for case it is a des_opt decision (time-invariant input variable)\n",
    "            'meas': True,  # Flag indicating if this variable is directly measurable, if False, it is a virtual output\n",
    "            'sp': 17,  # the amound of samples per each round (run)\n",
    "            'unc': 0.01,  # amount of noise (standard deviation) in the measurement, in case of insilico, this is used for simulating a normal distribution of noise to measurement (only measurement)\n",
    "            'offt': 0.3,  # minimum allowed perturbation of sampling times (ratio)\n",
    "            'samp_s': 1,  # Matching criterion for models prediction and data alignment\n",
    "            'samp_f': [0, 16],  # fixed sampling times\n",
    "        },\n",
    "        'y2': {  # response variable, here carbonation efficiency\n",
    "            'init': 0,  # Initial value for the response variable, it can be a value, or 'variable' for case it is a des_opt decision (time-invariant input variable)\n",
    "            'meas': True,  # Flag indicating if this variable is directly measurable, if False, it is a virtual output\n",
    "            'sp': 17,  # the amound of samples per each round (run)\n",
    "            'unc': 0.01,  # amount of noise (standard deviation) in the measurement, in case of insilico, this is used for simulating a normal distribution of noise to measurement (only measurement)\n",
    "            'offt': 0.3,  # minimum allowed perturbation of sampling times (ratio)\n",
    "            'samp_s': 1,  # Matching criterion for models prediction and data alignment\n",
    "            'samp_f': [0, 16],  # fixed sampling times\n",
    "        },\n",
    "        'y3': {  # response variable, here carbonation efficiency\n",
    "            'init': 0,\n",
    "            # Initial value for the response variable, it can be a value, or 'variable' for case it is a des_opt decision (time-invariant input variable)\n",
    "            'meas': True,\n",
    "            # Flag indicating if this variable is directly measurable, if False, it is a virtual output\n",
    "            'sp': 17,  # the amound of samples per each round (run)\n",
    "            'unc': 0.01,\n",
    "            # amount of noise (standard deviation) in the measurement, in case of insilico, this is used for simulating a normal distribution of noise to measurement (only measurement)\n",
    "            'offt': 0.3,  # minimum allowed perturbation of sampling times (ratio)\n",
    "            'samp_s': 1,  # Matching criterion for models prediction and data alignment\n",
    "            'samp_f': [0, 16],  # fixed sampling times\n",
    "        },\n",
    "    },\n",
    "    'tii': {  # Time-invariant input variables (tii)\n",
    "        'y10': {  # 1st symbolic time-invariant control, Density of solid reactant (kg/m³)\n",
    "            'max': 1,  # Maximum allowable signal level, des_opt space upper bound\n",
    "            'min': 0.3  # Minimum allowable signal level, des_opt space upper bound\n",
    "        },\n",
    "        'y20': {  # 1st symbolic time-invariant control, Density of solid reactant (kg/m³)\n",
    "            'max': 1,  # Maximum allowable signal level, des_opt space upper bound\n",
    "            'min': 0.19  # Minimum allowable signal level, des_opt space upper bound\n",
    "        },\n",
    "    },\n",
    "    'tio': {  # Time-invariant output variables (empty here, could hold steady state responses that hold no dependency)\n",
    "    },\n",
    "    't_s': [0, 16],  # Time span  (600 s to 10,800 s), duration of numerical perturbations (the rest is precluded from des_opt)\n",
    "    't_r': 0.02,  # Time resolution (10 s), minimum time steps for the simulation/des_opt/controls\n",
    "    't_d': 0.3\n",
    "}\n",
    "\n",
    "models = { # Settings related to the rival models and their parameters\n",
    "    'can_m': ['M'],  # Active solvers (rival models) to be used in the experiment\n",
    "    'krt': {'M': 'pys'},  # Kernel type for each model, 'pys' for python standalone scripts, 'pym' for middoe.krnl_models, 'gpr' for gPAS models\n",
    "    # type of the model interface, 'pym' for middoe.krnl_models, 'gpr' for gPAS models, function name for globally defined functions, 'pys' for python standalone scripts\n",
    "    'creds': {'M': '@@TTmnoa698'},\n",
    "    # credentials for gPAS models, if not needed, leave empty\n",
    "    'src': {'M': 'C:/Users/Tadmin/PycharmProjects/middoe/tests/paper/case study 2 - scenario 1/model.py'},\n",
    "    # for now for gPAS readable files, or python standalone scripts\n",
    "\n",
    "    'theta': { # Theta parameters for each models\n",
    "        'M': theta_n\n",
    "    },\n",
    "    't_u': { # Maximum bounds for theta parameters (based on normalized to'f20': theta20mins, 1)\n",
    "        'M': theta_maxs\n",
    "    },\n",
    "    't_l': { # Minimum bounds for theta parameters (based on normalized to 1)\n",
    "        'M': theta_mins\n",
    "    }\n",
    "}"
   ],
   "id": "db61352672cfaa44",
   "outputs": [],
   "execution_count": null
  },
  {
   "metadata": {},
   "cell_type": "code",
   "source": [
    "insilicos = { # Settings for the insilico data generation\n",
    "    'tr_m': 'M', # selected true models (with nominal values)\n",
    "    'theta': theta,\n",
    "    'errt': 'abs',  # error type, 'rel' for relative error, 'abs' for absolute error\n",
    "    'prels': { # classic des_opt settings, sheet name is the round run name, each sheet contains the data for the round, iso space.\n",
    "        '1': {'u1': 296.15, 'y10': 0.366, 'y20': 0.19},\n",
    "        '2': {'u1': 306.15, 'y10': 0.366, 'y20': 0.19},\n",
    "        '3': {'u1': 296.15, 'y10': 0.65, 'y20': 0.595},\n",
    "        '4': {'u1': 306.15, 'y10': 0.65, 'y20': 0.595},\n",
    "    }\n",
    "}"
   ],
   "id": "3bbf0f9c46c01b09",
   "outputs": [],
   "execution_count": null
  },
  {
   "metadata": {},
   "cell_type": "code",
   "source": [
    "from middoe.krnl_expera import expera\n",
    "expera(system, models, insilicos, design_decisions={}, expr=1)\n",
    "# expera(system, models, insilicos, design_decisions={}, expr=2)\n",
    "# expera(system, models, insilicos, design_decisions={}, expr=3)\n",
    "# expera(system, models, insilicos, design_decisions={}, expr=4)"
   ],
   "id": "fe2f65df1d2336b7",
   "outputs": [],
   "execution_count": null
  },
  {
   "metadata": {},
   "cell_type": "code",
   "source": [
    "iden_opt = { # Settings for the parameter estimation process\n",
    "    'meth': 'LBFGSB',  #'SLSQP', 'SQP', 'DE', 'NM', 'BFGS', 'LBFGSB'\n",
    "    'ms': True, # multi starting   # True or False\n",
    "    'maxit': 500,\n",
    "    'tol': 0.1,\n",
    "    'sens_m': 'central', # 'central', 'forward', and 'five' for FDM precision\n",
    "    'var-cov': 'B', # 'H' for based on hessidan, and 'M' for based on fisher\n",
    "    'nboot':500,\n",
    "    'init': None,   # use 'rand' to have random starting point and use None to start from theta_parameters nominal values (to be avoided in insilico studies)\n",
    "    'eps': 1e-5,  # perturbation size of parameters in SA FDM method (in a normalized to 1 space)e-\n",
    "    #usually 1e-3, or None to perform a mesh independency test, and auto adjustment\n",
    "    'ob': 'WLS',  #loss function, 'LS': least squares, 'MLE': maximum likelihood, 'Chi': chi-square, 'WLS': weighted least squares\n",
    "    'c_plt': False, # plot the confidence volumes\n",
    "    'f_plt': True, # plot the fitting results\n",
    "    'plt_s': True, # show plots while saving\n",
    "    'log': False # log the results\n",
    "}"
   ],
   "id": "d553d3dc6fdc2000",
   "outputs": [],
   "execution_count": null
  },
  {
   "metadata": {},
   "cell_type": "code",
   "source": [
    "from middoe.log_utils import  read_excel\n",
    "data = read_excel('indata')\n",
    "from middoe.iden_parmest import parmest\n",
    "resultpr = parmest(system, models, iden_opt, data, case='strov')\n"
   ],
   "id": "1aa3f694da0091b8",
   "outputs": [],
   "execution_count": null
  },
  {
   "metadata": {},
   "cell_type": "code",
   "source": [
    "import numpy as np\n",
    "import matplotlib.pyplot as plt\n",
    "from matplotlib.patches import Ellipse\n",
    "from scipy.stats import truncnorm, chi2\n",
    "from matplotlib.ticker import ScalarFormatter\n",
    "round = 1\n",
    "def plot_trunc_corr_matrix_from_raw(resultpr, round, solver='M', scpr_key='scpr',\n",
    "                                    param_names=None, dot_size=5, alpha=0.5, bins=100,\n",
    "                                    figsize=13, margin_frac=0.3, show=True):\n",
    "    \"\"\"\n",
    "    Corner-style plot from raw bootstrap samples (resultpr):\n",
    "    - Diagonal: histogram of raw samples with fitted truncated-normal PDF\n",
    "    - Off-diagonal: scatter + 95% confidence ellipse from truncated covariance matrix\n",
    "\n",
    "    Requires resultpr[solver] to contain:\n",
    "        - 'X'             → raw sample matrix (N × d)\n",
    "        - 'scpr'          → truncated mean\n",
    "        - 'v'             → truncated covariance\n",
    "    \"\"\"\n",
    "    # Validate input\n",
    "    data_block = resultpr.get(solver, {})\n",
    "    if 'X' not in data_block or 'scpr' not in data_block or 'v' not in data_block:\n",
    "        raise ValueError(f\"Missing required data in resultpr[{solver}]: 'X', 'scpr', or 'v'.\")\n",
    "\n",
    "    X = data_block['X']\n",
    "    mu = data_block[scpr_key]\n",
    "    cov = data_block['v']\n",
    "    N, ndim = X.shape\n",
    "\n",
    "    if param_names is None:\n",
    "        param_names = [f\"P{i+1}\" for i in range(ndim)]\n",
    "\n",
    "    # Plot setup\n",
    "    data_min = np.min(X, axis=0)\n",
    "    data_max = np.max(X, axis=0)\n",
    "    data_range = data_max - data_min\n",
    "    margin = margin_frac * data_range\n",
    "    xminn = data_min - margin\n",
    "    xmaxn = data_max + margin\n",
    "\n",
    "    fig, axes = plt.subplots(ndim, ndim, figsize=(figsize, figsize), squeeze=False)\n",
    "\n",
    "    for i in range(ndim):\n",
    "        for j in range(ndim):\n",
    "            ax = axes[i, j]\n",
    "\n",
    "            if i == j:\n",
    "                formatter = ScalarFormatter(useMathText=True)\n",
    "                formatter.set_powerlimits((-2, 2))\n",
    "                ax.xaxis.set_major_formatter(formatter)\n",
    "                ax.yaxis.set_major_formatter(formatter)\n",
    "                # Diagonal: histogram + fitted truncated PDF\n",
    "                xvals = X[:, i]\n",
    "                spread = np.ptp(xvals)\n",
    "                loc_bins = max(10, min(bins, int(np.sqrt(len(xvals)))))\n",
    "                hist_range = (data_min[i], data_max[i])\n",
    "\n",
    "                if spread < 1e-12:\n",
    "                    ax.axvline(mu[i], color='red', linestyle='--', linewidth=1.5)\n",
    "                    ax.text(mu[i], 0.5, \"flat\", rotation=90,\n",
    "                            va='center', ha='center', transform=ax.get_yaxis_transform(),\n",
    "                            color='gray', fontsize=8)\n",
    "                    ax.set_xlim(mu[i] - 1, mu[i] + 1)\n",
    "                else:\n",
    "                    counts, bins_, _ = ax.hist(xvals, bins=loc_bins, range=hist_range,\n",
    "                                               color='gray', alpha=0.7, density=True)\n",
    "\n",
    "                    # Truncnorm PDF fitted on empirical data\n",
    "                    mu_emp = np.mean(xvals)\n",
    "                    sigma_emp = np.std(xvals, ddof=1)\n",
    "                    a = (data_min[i] - mu_emp) / sigma_emp\n",
    "                    b = (data_max[i] - mu_emp) / sigma_emp\n",
    "                    bin_centers = 0.5 * (bins_[:-1] + bins_[1:])\n",
    "                    pdf_vals = truncnorm.pdf(bin_centers, a=a, b=b, loc=mu_emp, scale=sigma_emp)\n",
    "\n",
    "                    if np.max(pdf_vals) > 0:\n",
    "                        pdf_vals *= np.max(counts) / np.max(pdf_vals)\n",
    "\n",
    "                    ax.plot(bin_centers, pdf_vals, color='red', linewidth=1.5)\n",
    "                    ax.set_xlim(data_min[i], data_max[i])\n",
    "\n",
    "            else:\n",
    "\n",
    "                # Off-diagonal: scatter and 95% ellipse from truncated cov\n",
    "                ax.scatter(X[:, j], X[:, i], s=dot_size, alpha=alpha, color='black')\n",
    "\n",
    "                try:\n",
    "                    sub_cov = cov[np.ix_([j, i], [j, i])]\n",
    "                    vals, vecs = np.linalg.eigh(sub_cov)\n",
    "                    order = vals.argsort()[::-1]\n",
    "                    vals = vals[order]\n",
    "                    vecs = vecs[:, order]\n",
    "                    angle = np.degrees(np.arctan2(*vecs[:, 0][::-1]))\n",
    "                    width, height = 2 * np.sqrt(chi2.ppf(0.95, 2)) * np.sqrt(np.maximum(vals, 1e-12))\n",
    "                    ellipse = Ellipse(xy=(mu[j], mu[i]), width=width, height=height,\n",
    "                                      angle=angle, edgecolor='red', facecolor='none', lw=1)\n",
    "                    ax.add_patch(ellipse)\n",
    "                except Exception as e:\n",
    "                    print(f\"Ellipse error at ({i},{j}):\", e)\n",
    "\n",
    "                formatter = ScalarFormatter(useMathText=True)\n",
    "                formatter.set_powerlimits((-2, 2))\n",
    "                ax.xaxis.set_major_formatter(formatter)\n",
    "                ax.yaxis.set_major_formatter(formatter)\n",
    "                ax.set_xlim(xminn[j], xmaxn[j])\n",
    "                ax.set_ylim(xminn[i], xmaxn[i])\n",
    "\n",
    "            if i == ndim - 1:\n",
    "                ax.set_xlabel(param_names[j])\n",
    "            else:\n",
    "                ax.set_xticks([])\n",
    "\n",
    "            if j == 0:\n",
    "                ax.set_ylabel(param_names[i])\n",
    "            else:\n",
    "                ax.set_yticks([])\n",
    "\n",
    "    fig.tight_layout()\n",
    "    # Save as SVG with transparent background and high quality\n",
    "    fig.savefig(f\"ellipseboot_{round}.svg\", format='svg', dpi=300, transparent=True)\n",
    "\n",
    "    if show:\n",
    "        plt.show()\n",
    "\n",
    "    return fig, axes\n",
    "\n",
    "fig, axes = plot_trunc_corr_matrix_from_raw(resultpr, round, solver='M')"
   ],
   "id": "829f952495dcc18",
   "outputs": [],
   "execution_count": null
  },
  {
   "metadata": {},
   "cell_type": "code",
   "source": [
    "from middoe.iden_uncert import uncert\n",
    "uncert_results = uncert(data, resultpr, system, models, iden_opt)\n",
    "resultun = uncert_results['results']\n",
    "obs = uncert_results['obs']"
   ],
   "id": "1745da6caca7bac4",
   "outputs": [],
   "execution_count": null
  },
  {
   "metadata": {},
   "cell_type": "code",
   "source": [
    "from middoe.sc_estima import estima\n",
    "\n",
    "ranking, k_optimal_value, rCC_values, J_k_values, best_uncert_result = estima(resultun, system, models, iden_opt, round, data)"
   ],
   "id": "271f576bf4a20523",
   "outputs": [],
   "execution_count": null
  },
  {
   "metadata": {},
   "cell_type": "code",
   "source": [
    "from middoe.log_utils import  save_rounds\n",
    "round_data={}\n",
    "save_rounds(round, resultun,  'preliminary', round_data, models, iden_opt, obs, data, system, ranking= ranking, k_optimal_value= k_optimal_value, rCC_values= rCC_values, J_k_values= J_k_values,  best_uncert_result= best_uncert_result)\n",
    "# save_rounds(round, resultun,  'preliminary', round_data, models, iden_opt, obs, data, system)"
   ],
   "id": "2b80396d6b2cb7c2",
   "outputs": [],
   "execution_count": null
  },
  {
   "metadata": {},
   "cell_type": "code",
   "source": [
    "from middoe.krnl_expera import expera\n",
    "expera(system, models, insilicos, design_decisions={}, expr=2)"
   ],
   "id": "3d23c6f03ca736a6",
   "outputs": [],
   "execution_count": null
  },
  {
   "metadata": {},
   "cell_type": "code",
   "source": [
    "data = read_excel('indata')\n",
    "resultpr = parmest(system, models, iden_opt, data, case='strov')"
   ],
   "id": "ac8cad1b41c50a4e",
   "outputs": [],
   "execution_count": null
  },
  {
   "metadata": {},
   "cell_type": "code",
   "source": [
    "round = 2\n",
    "fig, axes = plot_trunc_corr_matrix_from_raw(resultpr,round, solver='M')"
   ],
   "id": "39e7bf3d9f083d01",
   "outputs": [],
   "execution_count": null
  },
  {
   "metadata": {},
   "cell_type": "code",
   "source": [
    "uncert_results = uncert(data, resultpr, system, models, iden_opt)\n",
    "resultun = uncert_results['results']\n",
    "obs = uncert_results['obs']"
   ],
   "id": "c6abee1b2e177f08",
   "outputs": [],
   "execution_count": null
  },
  {
   "metadata": {},
   "cell_type": "code",
   "source": "ranking, k_optimal_value, rCC_values, J_k_values, best_uncert_result = estima(resultun, system, models, iden_opt, round, data)",
   "id": "9d33009c5e746f4c",
   "outputs": [],
   "execution_count": null
  },
  {
   "metadata": {},
   "cell_type": "code",
   "source": "save_rounds(round, resultun,  'preliminary', round_data, models, iden_opt, obs, data, system, ranking= ranking, k_optimal_value= k_optimal_value, rCC_values= rCC_values, J_k_values= J_k_values,  best_uncert_result= best_uncert_result)",
   "id": "417b5a72bc9fbdf3",
   "outputs": [],
   "execution_count": null
  },
  {
   "metadata": {},
   "cell_type": "code",
   "source": [
    "from middoe.krnl_expera import expera\n",
    "expera(system, models, insilicos, design_decisions={}, expr=3)\n"
   ],
   "id": "b3324a0026949c6d",
   "outputs": [],
   "execution_count": null
  },
  {
   "metadata": {},
   "cell_type": "code",
   "source": [
    "data = read_excel('indata')\n",
    "resultpr = parmest(system, models, iden_opt, data, case='strov')"
   ],
   "id": "63d26b67feae703",
   "outputs": [],
   "execution_count": null
  },
  {
   "metadata": {},
   "cell_type": "code",
   "source": [
    "round = 3\n",
    "fig, axes = plot_trunc_corr_matrix_from_raw(resultpr,round, solver='M')\n"
   ],
   "id": "61f901aea5f38038",
   "outputs": [],
   "execution_count": null
  },
  {
   "metadata": {},
   "cell_type": "code",
   "source": [
    "uncert_results = uncert(data, resultpr, system, models, iden_opt)\n",
    "resultun = uncert_results['results']\n",
    "obs = uncert_results['obs']"
   ],
   "id": "51a4a5cffed32b1",
   "outputs": [],
   "execution_count": null
  },
  {
   "metadata": {},
   "cell_type": "code",
   "source": [
    "\n",
    "ranking, k_optimal_value, rCC_values, J_k_values, best_uncert_result = estima(resultun, system, models, iden_opt, round, data)"
   ],
   "id": "2db8829f9c113c8b",
   "outputs": [],
   "execution_count": null
  },
  {
   "metadata": {},
   "cell_type": "code",
   "source": [
    "\n",
    "save_rounds(round, resultun,  'preliminary', round_data, models, iden_opt, obs, data, system, ranking= ranking, k_optimal_value= k_optimal_value, rCC_values= rCC_values, J_k_values= J_k_values,  best_uncert_result= best_uncert_result)"
   ],
   "id": "7c1a2608839648a7",
   "outputs": [],
   "execution_count": null
  },
  {
   "metadata": {},
   "cell_type": "code",
   "source": [
    "from middoe.krnl_expera import expera\n",
    "expera(system, models, insilicos, design_decisions={}, expr=4)"
   ],
   "id": "689673a8aeaaa99e",
   "outputs": [],
   "execution_count": null
  },
  {
   "metadata": {},
   "cell_type": "code",
   "source": [
    "data = read_excel('indata')\n",
    "resultpr = parmest(system, models, iden_opt, data, case='strov')"
   ],
   "id": "5ff765f41dd7fe08",
   "outputs": [],
   "execution_count": null
  },
  {
   "metadata": {},
   "cell_type": "code",
   "source": [
    "round = 4\n",
    "fig, axes = plot_trunc_corr_matrix_from_raw(resultpr, round, solver='M')"
   ],
   "id": "6a812d9dbbaba407",
   "outputs": [],
   "execution_count": null
  },
  {
   "metadata": {},
   "cell_type": "code",
   "source": [
    "uncert_results = uncert(data, resultpr, system, models, iden_opt)\n",
    "resultun = uncert_results['results']\n",
    "obs = uncert_results['obs']"
   ],
   "id": "7462e9cf6e9b20da",
   "outputs": [],
   "execution_count": null
  },
  {
   "metadata": {},
   "cell_type": "code",
   "source": [
    "\n",
    "ranking, k_optimal_value, rCC_values, J_k_values, best_uncert_result = estima(resultun, system, models, iden_opt, round, data)"
   ],
   "id": "9020422d9b44e309",
   "outputs": [],
   "execution_count": null
  },
  {
   "metadata": {},
   "cell_type": "code",
   "source": [
    "\n",
    "save_rounds(round, resultun,  'preliminary', round_data, models, iden_opt, obs, data, system, ranking= ranking, k_optimal_value= k_optimal_value, rCC_values= rCC_values, J_k_values= J_k_values,  best_uncert_result= best_uncert_result)"
   ],
   "id": "9b500a8e6c4f3ffb",
   "outputs": [],
   "execution_count": null
  },
  {
   "metadata": {},
   "cell_type": "code",
   "source": [
    "from middoe.iden_valida import validation\n",
    "validres= validation(data, system, models, iden_opt, round_data)"
   ],
   "id": "76c48e8743e4759c",
   "outputs": [],
   "execution_count": null
  },
  {
   "metadata": {},
   "cell_type": "code",
   "source": [
    "from middoe.log_utils import save_to_jac\n",
    "save_to_jac(round_data, purpose=\"iden\")"
   ],
   "id": "176c28feef81d0ae",
   "outputs": [],
   "execution_count": null
  },
  {
   "metadata": {},
   "cell_type": "code",
   "source": [
    "from middoe.log_utils import load_from_jac\n",
    "results = load_from_jac()\n",
    "iden = results['iden']"
   ],
   "id": "9b59ec341ec215d8",
   "outputs": [],
   "execution_count": null
  },
  {
   "metadata": {},
   "cell_type": "code",
   "source": [
    "from middoe.log_utils import load_from_jac\n",
    "results = load_from_jac()\n",
    "iden = results['iden']\n",
    "\n",
    "from middoe.iden_utils import run_postprocessing\n",
    "run_postprocessing(\n",
    "    round_data=results['iden'],\n",
    "    solvers=['M'],\n",
    "    selected_rounds=[ 1, 2, 3, 4],\n",
    "    plot_global_p_and_t=True,\n",
    "    plot_confidence_spaces=True,\n",
    "    plot_p_and_t_tests=True,\n",
    "    export_excel_reports=True,\n",
    "    plot_estimability=True\n",
    ")"
   ],
   "id": "4c284b2defe864f7",
   "outputs": [],
   "execution_count": null
  },
  {
   "metadata": {},
   "cell_type": "code",
   "source": "",
   "id": "71394c1cfa80b3c1",
   "outputs": [],
   "execution_count": null
  },
  {
   "metadata": {},
   "cell_type": "code",
   "source": [
    "des_opt = { # Design settings for the experiment\n",
    "    'eps': 1e-3, #perturbation size of parameters in SA FDM method (in a normalized to 1 space)\n",
    "    'meth': 'PS',  # optimisation method, 'G': Global Differential Evolution, 'L': Local Pattern Search, 'GL': Global Differential Evolution refined with Local Pattern Search\n",
    "    'md_ob': 'HR',     # MD optimality criterion, 'HR': Hunter and Reiner, 'BFF': Buzzi-Ferraris and Forzatti\n",
    "    'pp_ob': 'E',  # PP optimality criterion, 'D', 'A', 'E', 'ME'\n",
    "    'plt': True,  # Plot the results\n",
    "    'itr': {\n",
    "        'pps': 30, # population size\n",
    "        'maxmd': 200, # maximum number of MD runs\n",
    "        'tolmd': 1, # tolerance for MD optimization\n",
    "        'maxpp':20 ,# maximum number of PP runs\n",
    "        'tolpp': 1, # tolerance for PP optimization\n",
    "    }\n",
    "}"
   ],
   "id": "e9b550283edcc114",
   "outputs": [],
   "execution_count": null
  },
  {
   "metadata": {
    "jupyter": {
     "is_executing": true
    }
   },
   "cell_type": "code",
   "source": [
    "from middoe.des_md import mbdoe_md\n",
    "designs = mbdoe_md(des_opt, system, models, round=2, num_parallel_runs=16)"
   ],
   "id": "d17778f7d8193f8",
   "outputs": [],
   "execution_count": null
  },
  {
   "metadata": {},
   "cell_type": "code",
   "source": [
    "from middoe.krnl_expera import expera\n",
    "expera(system, models, insilicos, designs, expr=3, swps=designs['swps'])"
   ],
   "id": "d6fac770ec525a6e",
   "outputs": [],
   "execution_count": null
  },
  {
   "metadata": {},
   "cell_type": "code",
   "source": [
    "data = read_excel('indata')\n",
    "resultpr = parmest(system, models, iden_opt, data)\n",
    "uncert_results = uncert(data, resultpr, system, models, iden_opt)\n",
    "resultun = uncert_results['results']\n",
    "obs = uncert_results['obs']"
   ],
   "id": "dfa85ac1d0abf3fe",
   "outputs": [],
   "execution_count": null
  },
  {
   "metadata": {},
   "cell_type": "code",
   "source": [
    "round = 2\n",
    "trv=save_rounds(round, resultun,  'MBDOE_MD', round_data, models, iden_opt, obs, data, system)\n",
    "\n"
   ],
   "id": "b9fdbcbd4bb2f699",
   "outputs": [],
   "execution_count": null
  },
  {
   "metadata": {},
   "cell_type": "code",
   "source": [
    "from middoe.log_utils import save_to_jac\n",
    "save_to_jac(round_data, purpose=\"iden\")"
   ],
   "id": "366804b23ba175f",
   "outputs": [],
   "execution_count": null
  },
  {
   "metadata": {},
   "cell_type": "code",
   "source": [
    "from middoe.log_utils import load_from_jac\n",
    "results = load_from_jac()\n",
    "iden = results['iden']\n",
    "\n",
    "from middoe.iden_utils import run_postprocessing\n",
    "run_postprocessing(\n",
    "    round_data=results['iden'],\n",
    "    solvers=['MI', 'MII'],\n",
    "    selected_rounds=[ 1, 2],\n",
    "    plot_global_p_and_t=True,\n",
    "    plot_confidence_spaces=True,\n",
    "    plot_p_and_t_tests=True,\n",
    "    export_excel_reports=True,\n",
    "    plot_estimability=True\n",
    ")"
   ],
   "id": "5ee8fa7931962159",
   "outputs": [],
   "execution_count": null
  }
 ],
 "metadata": {
  "kernelspec": {
   "display_name": "Python 3",
   "language": "python",
   "name": "python3"
  },
  "language_info": {
   "codemirror_mode": {
    "name": "ipython",
    "version": 2
   },
   "file_extension": ".py",
   "mimetype": "text/x-python",
   "name": "python",
   "nbconvert_exporter": "python",
   "pygments_lexer": "ipython2",
   "version": "2.7.6"
  }
 },
 "nbformat": 4,
 "nbformat_minor": 5
}
