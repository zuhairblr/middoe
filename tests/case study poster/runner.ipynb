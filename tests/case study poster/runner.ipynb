{
 "cells": [
  {
   "cell_type": "code",
   "id": "initial_id",
   "metadata": {
    "collapsed": true,
    "ExecuteTime": {
     "end_time": "2025-06-28T12:07:33.062814Z",
     "start_time": "2025-06-28T12:07:33.052202Z"
    }
   },
   "source": [
    "theta1 = [0.31, 0.18, 0.65, 0.25, 5]\n",
    "theta_n1 = [val * 1.4 for val in theta1]\n",
    "theta_min1 = [val * 0.2 for val in theta1]\n",
    "theta_max1 = [val * 1.8 for val in theta1]\n",
    "theta_maxs1 = [hi / nom for hi, nom in zip(theta_max1, theta_n1)]\n",
    "theta_mins1 = [lo / nom for lo, nom in zip(theta_min1, theta_n1)]"
   ],
   "outputs": [],
   "execution_count": 8
  },
  {
   "metadata": {
    "ExecuteTime": {
     "end_time": "2025-06-28T12:07:34.426449Z",
     "start_time": "2025-06-28T12:07:34.418537Z"
    }
   },
   "cell_type": "code",
   "source": [
    "system = {\n",
    "    'tvi': {  # Time-variant input variables (models input: tvi), each key is a symbol nad key in tvi as well\n",
    "        'u1': {  # Temperature (K)\n",
    "            'stps': 5,  # Number of switching times in CVPs (vector parametrisation resolution in time dimension):\n",
    "            # Must be a positive integer > 1. swps-1 is the number of steps\n",
    "            'const': 'rel',  # Constraint type: relative state of signal levels in CVPs\n",
    "            # 'rel' (relative) ensures relaxation, 'dec' (decreasing) ensures decreasing signal levels, 'inc' (increasing) ensures increasing signal levels\n",
    "            'max': 0.2,  # Maximum allowable signal level, des_opt space upper bound\n",
    "            'min': 0.05,  # Minimum allowable signal level, des_opt space lower bound\n",
    "            'cvp': 'CPF',  # Design CVP method (CPF - constant profile, LPF - linear profile)\n",
    "            'offl': 0.01,  # minimum allowed perturbation of signal (ratio)\n",
    "            'offt': 0.5  # minimum allowed perturbation of time (ratio)\n",
    "        },\n",
    "        'u2': {  # Temperature (K)\n",
    "            'stps': 5,  # Number of switching times in CVPs (vector parametrisation resolution in time dimension):\n",
    "            # Must be a positive integer > 1. swps-1 is the number of steps\n",
    "            'const': 'dec',  # Constraint type: relative state of signal levels in CVPs\n",
    "            # 'rel' (relative) ensures relaxation, 'dec' (decreasing) ensures decreasing signal levels, 'inc' (increasing) ensures increasing signal levels\n",
    "            'max': 35,  # Maximum allowable signal level, des_opt space upper bound\n",
    "            'min': 5,  # Minimum allowable signal level, des_opt space lower bound\n",
    "            'cvp': 'CPF',  # Design CVP method (CPF - constant profile, LPF - linear profile)\n",
    "            'offl': 5,  # minimum allowed perturbation of signal (ratio)\n",
    "            'offt': 0.5  # minimum allowed perturbation of time (ratio)\n",
    "        },\n",
    "    },\n",
    "    'tvo': {  # Time-variant output variables (responses, measured or unmeasured)\n",
    "        'y1': {  # response variable, here carbonation efficiency\n",
    "            'init': 0,  # Initial value for the response variable, it can be a value, or 'variable' for case it is a des_opt decision (time-invariant input variable)\n",
    "            'meas': True,  # Flag indicating if this variable is directly measurable, if False, it is a virtual output\n",
    "            'sp': 6,  # the amound of samples per each round (run)\n",
    "            'unc': 0.05,  # amount of noise (standard deviation) in the measurement, in case of insilico, this is used for simulating a normal distribution of noise to measurement (only measurement)\n",
    "            'offt': 0.5,  # minimum allowed perturbation of sampling times (ratio)\n",
    "            'samp_s': 1,  # Matching criterion for models prediction and data alignment\n",
    "            'samp_f': [0, 10],  # fixed sampling times\n",
    "        },\n",
    "        'y2': {  # response variable, here carbonation efficiency\n",
    "            'init': 0,  # Initial value for the response variable, it can be a value, or 'variable' for case it is a des_opt decision (time-invariant input variable)\n",
    "            'meas': True,  # Flag indicating if this variable is directly measurable, if False, it is a virtual output\n",
    "            'sp': 6,  # the amound of samples per each round (run)\n",
    "            'unc': 0.05,  # amount of noise (standard deviation) in the measurement, in case of insilico, this is used for simulating a normal distribution of noise to measurement (only measurement)\n",
    "            'offt': 0.5,  # minimum allowed perturbation of sampling times (ratio)\n",
    "            'samp_s': 1,  # Matching criterion for models prediction and data alignment\n",
    "            'samp_f': [0, 10],  # fixed sampling times\n",
    "        },\n",
    "    },\n",
    "    'tii': {  # Time-invariant input variables (tii)\n",
    "        'y10': {  # 1st symbolic time-invariant control, Density of solid reactant (kg/m³)\n",
    "            'max': 10,  # Maximum allowable signal level, des_opt space upper bound\n",
    "            'min': 1  # Minimum allowable signal level, des_opt space upper bound\n",
    "        },\n",
    "        'y20': {  # 1st symbolic time-invariant control, Density of solid reactant (kg/m³)\n",
    "            'max': 10,  # Maximum allowable signal level, des_opt space upper bound\n",
    "            'min': 1  # Minimum allowable signal level, des_opt space upper bound\n",
    "        },\n",
    "    },\n",
    "    'tio': {  # Time-invariant output variables (empty here, could hold steady state responses that hold no dependency)\n",
    "    },\n",
    "    't_s': [0, 10],  # Time span  (600 s to 10,800 s), duration of numerical perturbations (the rest is precluded from des_opt)\n",
    "    't_r': 0.02,  # Time resolution (10 s), minimum time steps for the simulation/des_opt/controls\n",
    "    't_d': 0.5\n",
    "}"
   ],
   "id": "d854256ba464cb85",
   "outputs": [],
   "execution_count": 9
  },
  {
   "metadata": {
    "ExecuteTime": {
     "end_time": "2025-06-28T12:07:36.865498Z",
     "start_time": "2025-06-28T12:07:36.856580Z"
    }
   },
   "cell_type": "code",
   "source": [
    "models = { # Settings related to the rival models and their parameters\n",
    "    'can_m': ['M'],  # Active solvers (rival models) to be used in the experiment\n",
    "    'krt': {'M': 'pys'},  # Kernel type for each model, 'pys' for python standalone scripts, 'pym' for middoe.krnl_models, 'gpr' for gPAS models\n",
    "    # type of the model interface, 'pym' for middoe.krnl_models, 'gpr' for gPAS models, function name for globally defined functions, 'pys' for python standalone scripts\n",
    "    'creds': {'M': '@@TTmnoa698'},\n",
    "    # credentials for gPAS models, if not needed, leave empty\n",
    "    'src': {'M': 'C:/Users/Tadmin/PycharmProjects/middoe/tests/case study poster/model.py'},\n",
    "    # for now for gPAS readable files, or python standalone scripts\n",
    "\n",
    "    'theta': { # Theta parameters for each models\n",
    "        'M': theta_n1\n",
    "    },\n",
    "    't_u': { # Maximum bounds for theta parameters (based on normalized to'f20': theta20mins, 1)\n",
    "        'M': theta_maxs1\n",
    "    },\n",
    "    't_l': { # Minimum bounds for theta parameters (based on normalized to 1)\n",
    "        'M': theta_mins1\n",
    "    }\n",
    "}"
   ],
   "id": "d8f076a8b4184ec8",
   "outputs": [],
   "execution_count": 10
  },
  {
   "metadata": {
    "ExecuteTime": {
     "end_time": "2025-06-28T12:07:39.739189Z",
     "start_time": "2025-06-28T12:07:39.734353Z"
    }
   },
   "cell_type": "code",
   "source": [
    "insilicos = { # Settings for the insilico data generation\n",
    "    'tr_m': 'M', # selected true models (with nominal values)\n",
    "    'theta': theta1,\n",
    "    'errt': 'abs',  # error type, 'rel' for relative error, 'abs' for absolute error\n",
    "    'prels': { # classic des_opt settings, sheet name is the round run name, each sheet contains the data for the round, iso space.\n",
    "        '1': {'u1': 0.125, 'u2':20, 'y10': 5.5, 'y20': 5.5},\n",
    "        '2': {'u1': 0.2, 'u2':35, 'y10': 10, 'y20': 10},\n",
    "        '3': {'u1': 0.05, 'u2':5, 'y10': 1, 'y20': 1},\n",
    "    }\n",
    "}"
   ],
   "id": "1a52afe778ea3440",
   "outputs": [],
   "execution_count": 11
  },
  {
   "metadata": {
    "ExecuteTime": {
     "end_time": "2025-06-28T12:07:42.220462Z",
     "start_time": "2025-06-28T12:07:42.130886Z"
    }
   },
   "cell_type": "code",
   "source": [
    "from middoe.krnl_expera import expera\n",
    "expera(system, models, insilicos, design_decisions={}, expr=1)"
   ],
   "id": "6a68abb1e495e528",
   "outputs": [
    {
     "name": "stdout",
     "output_type": "stream",
     "text": [
      "\n",
      "[✓] In-silico data saved to: C:\\Users\\Tadmin\\PycharmProjects\\middoe\\tests\\case study poster\\indata.xlsx\n",
      "[INFO] Model used         : M\n",
      "[INFO] Design case        : classic/preliminary\n",
      "[INFO] Responses simulated:\n",
      "   - y1         | measurable      | std.dev = 0.05\n",
      "   - y2         | measurable      | std.dev = 0.05\n"
     ]
    },
    {
     "data": {
      "text/plain": [
       "(WindowsPath('C:/Users/Tadmin/PycharmProjects/middoe/tests/case study poster/indata.xlsx'),\n",
       "      MES_X:y1  MES_Y:y1  MES_X:y2  MES_Y:y2  X:all  y10  y20     u1    u2  \\\n",
       " 0         0.0  5.389935       0.0  5.410285   0.00  5.5  5.5  0.125  20.0   \n",
       " 1         2.0  3.355977       2.0  1.867120   0.02  5.5  5.5  0.125  20.0   \n",
       " 2         4.0  1.844734       4.0  0.016674   0.04  5.5  5.5  0.125  20.0   \n",
       " 3         6.0  0.915667       6.0  0.013553   0.06  5.5  5.5  0.125  20.0   \n",
       " 4         8.0  0.510391       8.0  0.031224   0.08  5.5  5.5  0.125  20.0   \n",
       " ..        ...       ...       ...       ...    ...  ...  ...    ...   ...   \n",
       " 496       NaN       NaN       NaN       NaN   9.92  5.5  5.5  0.125  20.0   \n",
       " 497       NaN       NaN       NaN       NaN   9.94  5.5  5.5  0.125  20.0   \n",
       " 498       NaN       NaN       NaN       NaN   9.96  5.5  5.5  0.125  20.0   \n",
       " 499       NaN       NaN       NaN       NaN   9.98  5.5  5.5  0.125  20.0   \n",
       " 500       NaN       NaN       NaN       NaN  10.00  5.5  5.5  0.125  20.0   \n",
       " \n",
       "      CVP:u1  CVP:u2  \n",
       " 0    no_CVP  no_CVP  \n",
       " 1       NaN     NaN  \n",
       " 2       NaN     NaN  \n",
       " 3       NaN     NaN  \n",
       " 4       NaN     NaN  \n",
       " ..      ...     ...  \n",
       " 496     NaN     NaN  \n",
       " 497     NaN     NaN  \n",
       " 498     NaN     NaN  \n",
       " 499     NaN     NaN  \n",
       " 500     NaN     NaN  \n",
       " \n",
       " [501 rows x 11 columns])"
      ]
     },
     "execution_count": 12,
     "metadata": {},
     "output_type": "execute_result"
    }
   ],
   "execution_count": 12
  },
  {
   "metadata": {
    "ExecuteTime": {
     "end_time": "2025-06-28T12:06:56.103013Z",
     "start_time": "2025-06-28T12:06:54.870412Z"
    }
   },
   "cell_type": "code",
   "source": "expera(system, models, insilicos, design_decisions={}, expr=2)",
   "id": "48f22d269938e33c",
   "outputs": [
    {
     "ename": "PermissionError",
     "evalue": "[Errno 13] Permission denied: 'C:\\\\Users\\\\Tadmin\\\\PycharmProjects\\\\middoe\\\\tests\\\\case study poster\\\\indata.xlsx'",
     "output_type": "error",
     "traceback": [
      "\u001B[31m---------------------------------------------------------------------------\u001B[39m",
      "\u001B[31mPermissionError\u001B[39m                           Traceback (most recent call last)",
      "\u001B[36mCell\u001B[39m\u001B[36m \u001B[39m\u001B[32mIn[7]\u001B[39m\u001B[32m, line 1\u001B[39m\n\u001B[32m----> \u001B[39m\u001B[32m1\u001B[39m \u001B[43mexpera\u001B[49m\u001B[43m(\u001B[49m\u001B[43msystem\u001B[49m\u001B[43m,\u001B[49m\u001B[43m \u001B[49m\u001B[43mmodels\u001B[49m\u001B[43m,\u001B[49m\u001B[43m \u001B[49m\u001B[43minsilicos\u001B[49m\u001B[43m,\u001B[49m\u001B[43m \u001B[49m\u001B[43mdesign_decisions\u001B[49m\u001B[43m=\u001B[49m\u001B[43m{\u001B[49m\u001B[43m}\u001B[49m\u001B[43m,\u001B[49m\u001B[43m \u001B[49m\u001B[43mexpr\u001B[49m\u001B[43m=\u001B[49m\u001B[32;43m2\u001B[39;49m\u001B[43m)\u001B[49m\n",
      "\u001B[36mFile \u001B[39m\u001B[32m~\\PycharmProjects\\middoe\\middoe\\krnl_expera.py:172\u001B[39m, in \u001B[36mexpera\u001B[39m\u001B[34m(system, models, insilicos, design_decisions, expr, swps)\u001B[39m\n\u001B[32m    169\u001B[39m \u001B[38;5;66;03m# Check if the file already exists\u001B[39;00m\n\u001B[32m    170\u001B[39m \u001B[38;5;28;01mif\u001B[39;00m os.path.isfile(excel_path):\n\u001B[32m    171\u001B[39m     \u001B[38;5;66;03m# Open the file in append mode if it exists\u001B[39;00m\n\u001B[32m--> \u001B[39m\u001B[32m172\u001B[39m     \u001B[38;5;28;01mwith\u001B[39;00m \u001B[43mpd\u001B[49m\u001B[43m.\u001B[49m\u001B[43mExcelWriter\u001B[49m\u001B[43m(\u001B[49m\u001B[43mexcel_path\u001B[49m\u001B[43m,\u001B[49m\u001B[43m \u001B[49m\u001B[43mmode\u001B[49m\u001B[43m=\u001B[49m\u001B[33;43m'\u001B[39;49m\u001B[33;43ma\u001B[39;49m\u001B[33;43m'\u001B[39;49m\u001B[43m,\u001B[49m\u001B[43m \u001B[49m\u001B[43mengine\u001B[49m\u001B[43m=\u001B[49m\u001B[33;43m'\u001B[39;49m\u001B[33;43mopenpyxl\u001B[39;49m\u001B[33;43m'\u001B[39;49m\u001B[43m)\u001B[49m \u001B[38;5;28;01mas\u001B[39;00m writer:\n\u001B[32m    173\u001B[39m         existing_sheets = writer.book.sheetnames\n\u001B[32m    174\u001B[39m         \u001B[38;5;28;01mif\u001B[39;00m experiment_number \u001B[38;5;129;01min\u001B[39;00m existing_sheets:\n\u001B[32m    175\u001B[39m             \u001B[38;5;66;03m# Append to the existing sheet\u001B[39;00m\n",
      "\u001B[36mFile \u001B[39m\u001B[32m~\\PycharmProjects\\middoe\\.venv\\Lib\\site-packages\\pandas\\io\\excel\\_openpyxl.py:61\u001B[39m, in \u001B[36mOpenpyxlWriter.__init__\u001B[39m\u001B[34m(self, path, engine, date_format, datetime_format, mode, storage_options, if_sheet_exists, engine_kwargs, **kwargs)\u001B[39m\n\u001B[32m     57\u001B[39m \u001B[38;5;28;01mfrom\u001B[39;00m\u001B[38;5;250m \u001B[39m\u001B[34;01mopenpyxl\u001B[39;00m\u001B[34;01m.\u001B[39;00m\u001B[34;01mworkbook\u001B[39;00m\u001B[38;5;250m \u001B[39m\u001B[38;5;28;01mimport\u001B[39;00m Workbook\n\u001B[32m     59\u001B[39m engine_kwargs = combine_kwargs(engine_kwargs, kwargs)\n\u001B[32m---> \u001B[39m\u001B[32m61\u001B[39m \u001B[38;5;28;43msuper\u001B[39;49m\u001B[43m(\u001B[49m\u001B[43m)\u001B[49m\u001B[43m.\u001B[49m\u001B[34;43m__init__\u001B[39;49m\u001B[43m(\u001B[49m\n\u001B[32m     62\u001B[39m \u001B[43m    \u001B[49m\u001B[43mpath\u001B[49m\u001B[43m,\u001B[49m\n\u001B[32m     63\u001B[39m \u001B[43m    \u001B[49m\u001B[43mmode\u001B[49m\u001B[43m=\u001B[49m\u001B[43mmode\u001B[49m\u001B[43m,\u001B[49m\n\u001B[32m     64\u001B[39m \u001B[43m    \u001B[49m\u001B[43mstorage_options\u001B[49m\u001B[43m=\u001B[49m\u001B[43mstorage_options\u001B[49m\u001B[43m,\u001B[49m\n\u001B[32m     65\u001B[39m \u001B[43m    \u001B[49m\u001B[43mif_sheet_exists\u001B[49m\u001B[43m=\u001B[49m\u001B[43mif_sheet_exists\u001B[49m\u001B[43m,\u001B[49m\n\u001B[32m     66\u001B[39m \u001B[43m    \u001B[49m\u001B[43mengine_kwargs\u001B[49m\u001B[43m=\u001B[49m\u001B[43mengine_kwargs\u001B[49m\u001B[43m,\u001B[49m\n\u001B[32m     67\u001B[39m \u001B[43m\u001B[49m\u001B[43m)\u001B[49m\n\u001B[32m     69\u001B[39m \u001B[38;5;66;03m# ExcelWriter replaced \"a\" by \"r+\" to allow us to first read the excel file from\u001B[39;00m\n\u001B[32m     70\u001B[39m \u001B[38;5;66;03m# the file and later write to it\u001B[39;00m\n\u001B[32m     71\u001B[39m \u001B[38;5;28;01mif\u001B[39;00m \u001B[33m\"\u001B[39m\u001B[33mr+\u001B[39m\u001B[33m\"\u001B[39m \u001B[38;5;129;01min\u001B[39;00m \u001B[38;5;28mself\u001B[39m._mode:  \u001B[38;5;66;03m# Load from existing workbook\u001B[39;00m\n",
      "\u001B[36mFile \u001B[39m\u001B[32m~\\PycharmProjects\\middoe\\.venv\\Lib\\site-packages\\pandas\\io\\excel\\_base.py:1246\u001B[39m, in \u001B[36mExcelWriter.__init__\u001B[39m\u001B[34m(self, path, engine, date_format, datetime_format, mode, storage_options, if_sheet_exists, engine_kwargs)\u001B[39m\n\u001B[32m   1242\u001B[39m \u001B[38;5;28mself\u001B[39m._handles = IOHandles(\n\u001B[32m   1243\u001B[39m     cast(IO[\u001B[38;5;28mbytes\u001B[39m], path), compression={\u001B[33m\"\u001B[39m\u001B[33mcompression\u001B[39m\u001B[33m\"\u001B[39m: \u001B[38;5;28;01mNone\u001B[39;00m}\n\u001B[32m   1244\u001B[39m )\n\u001B[32m   1245\u001B[39m \u001B[38;5;28;01mif\u001B[39;00m \u001B[38;5;129;01mnot\u001B[39;00m \u001B[38;5;28misinstance\u001B[39m(path, ExcelWriter):\n\u001B[32m-> \u001B[39m\u001B[32m1246\u001B[39m     \u001B[38;5;28mself\u001B[39m._handles = \u001B[43mget_handle\u001B[49m\u001B[43m(\u001B[49m\n\u001B[32m   1247\u001B[39m \u001B[43m        \u001B[49m\u001B[43mpath\u001B[49m\u001B[43m,\u001B[49m\u001B[43m \u001B[49m\u001B[43mmode\u001B[49m\u001B[43m,\u001B[49m\u001B[43m \u001B[49m\u001B[43mstorage_options\u001B[49m\u001B[43m=\u001B[49m\u001B[43mstorage_options\u001B[49m\u001B[43m,\u001B[49m\u001B[43m \u001B[49m\u001B[43mis_text\u001B[49m\u001B[43m=\u001B[49m\u001B[38;5;28;43;01mFalse\u001B[39;49;00m\n\u001B[32m   1248\u001B[39m \u001B[43m    \u001B[49m\u001B[43m)\u001B[49m\n\u001B[32m   1249\u001B[39m \u001B[38;5;28mself\u001B[39m._cur_sheet = \u001B[38;5;28;01mNone\u001B[39;00m\n\u001B[32m   1251\u001B[39m \u001B[38;5;28;01mif\u001B[39;00m date_format \u001B[38;5;129;01mis\u001B[39;00m \u001B[38;5;28;01mNone\u001B[39;00m:\n",
      "\u001B[36mFile \u001B[39m\u001B[32m~\\PycharmProjects\\middoe\\.venv\\Lib\\site-packages\\pandas\\io\\common.py:882\u001B[39m, in \u001B[36mget_handle\u001B[39m\u001B[34m(path_or_buf, mode, encoding, compression, memory_map, is_text, errors, storage_options)\u001B[39m\n\u001B[32m    873\u001B[39m         handle = \u001B[38;5;28mopen\u001B[39m(\n\u001B[32m    874\u001B[39m             handle,\n\u001B[32m    875\u001B[39m             ioargs.mode,\n\u001B[32m   (...)\u001B[39m\u001B[32m    878\u001B[39m             newline=\u001B[33m\"\u001B[39m\u001B[33m\"\u001B[39m,\n\u001B[32m    879\u001B[39m         )\n\u001B[32m    880\u001B[39m     \u001B[38;5;28;01melse\u001B[39;00m:\n\u001B[32m    881\u001B[39m         \u001B[38;5;66;03m# Binary mode\u001B[39;00m\n\u001B[32m--> \u001B[39m\u001B[32m882\u001B[39m         handle = \u001B[38;5;28;43mopen\u001B[39;49m\u001B[43m(\u001B[49m\u001B[43mhandle\u001B[49m\u001B[43m,\u001B[49m\u001B[43m \u001B[49m\u001B[43mioargs\u001B[49m\u001B[43m.\u001B[49m\u001B[43mmode\u001B[49m\u001B[43m)\u001B[49m\n\u001B[32m    883\u001B[39m     handles.append(handle)\n\u001B[32m    885\u001B[39m \u001B[38;5;66;03m# Convert BytesIO or file objects passed with an encoding\u001B[39;00m\n",
      "\u001B[31mPermissionError\u001B[39m: [Errno 13] Permission denied: 'C:\\\\Users\\\\Tadmin\\\\PycharmProjects\\\\middoe\\\\tests\\\\case study poster\\\\indata.xlsx'"
     ]
    }
   ],
   "execution_count": 7
  },
  {
   "metadata": {
    "ExecuteTime": {
     "end_time": "2025-06-27T13:25:57.667801Z",
     "start_time": "2025-06-27T13:25:57.518812Z"
    }
   },
   "cell_type": "code",
   "source": "expera(system, models, insilicos, design_decisions={}, expr=3)",
   "id": "ca56757793841ac6",
   "outputs": [
    {
     "name": "stdout",
     "output_type": "stream",
     "text": [
      "\n",
      "[✓] In-silico data saved to: C:\\Users\\Tadmin\\PycharmProjects\\middoe\\tests\\case study poster\\indata.xlsx\n",
      "[INFO] Model used         : M\n",
      "[INFO] Design case        : classic/preliminary\n",
      "[INFO] Responses simulated:\n",
      "   - y1         | measurable      | std.dev = 0.0001\n",
      "   - y2         | measurable      | std.dev = 0.0001\n"
     ]
    },
    {
     "data": {
      "text/plain": [
       "(WindowsPath('C:/Users/Tadmin/PycharmProjects/middoe/tests/case study poster/indata.xlsx'),\n",
       "      MES_X:y1  MES_Y:y1  MES_X:y2  MES_Y:y2  X:all  y10  y20    u1   u2  \\\n",
       " 0         0.0  1.000139       0.0  1.000015   0.00  1.0  1.0  0.05  5.0   \n",
       " 1         2.0  0.844691       2.0  0.876264   0.02  1.0  1.0  0.05  5.0   \n",
       " 2         4.0  0.713741       4.0  0.768302   0.04  1.0  1.0  0.05  5.0   \n",
       " 3         6.0  0.601680       6.0  0.675583   0.06  1.0  1.0  0.05  5.0   \n",
       " 4         8.0  0.505100       8.0  0.596608   0.08  1.0  1.0  0.05  5.0   \n",
       " ..        ...       ...       ...       ...    ...  ...  ...   ...  ...   \n",
       " 496       NaN       NaN       NaN       NaN   9.92  1.0  1.0  0.05  5.0   \n",
       " 497       NaN       NaN       NaN       NaN   9.94  1.0  1.0  0.05  5.0   \n",
       " 498       NaN       NaN       NaN       NaN   9.96  1.0  1.0  0.05  5.0   \n",
       " 499       NaN       NaN       NaN       NaN   9.98  1.0  1.0  0.05  5.0   \n",
       " 500       NaN       NaN       NaN       NaN  10.00  1.0  1.0  0.05  5.0   \n",
       " \n",
       "      CVP:u1  CVP:u2  \n",
       " 0    no_CVP  no_CVP  \n",
       " 1       NaN     NaN  \n",
       " 2       NaN     NaN  \n",
       " 3       NaN     NaN  \n",
       " 4       NaN     NaN  \n",
       " ..      ...     ...  \n",
       " 496     NaN     NaN  \n",
       " 497     NaN     NaN  \n",
       " 498     NaN     NaN  \n",
       " 499     NaN     NaN  \n",
       " 500     NaN     NaN  \n",
       " \n",
       " [501 rows x 11 columns])"
      ]
     },
     "execution_count": 63,
     "metadata": {},
     "output_type": "execute_result"
    }
   ],
   "execution_count": 63
  },
  {
   "metadata": {
    "ExecuteTime": {
     "end_time": "2025-06-27T13:27:05.863710Z",
     "start_time": "2025-06-27T13:27:05.852212Z"
    }
   },
   "cell_type": "code",
   "source": [
    "iden_opt = { # Settings for the parameter estimation process\n",
    "    'meth': 'G',  # optimisation method, 'G': Global Differential Evolution, 'Ls': Local SLSQP, 'Ln': Local Nelder-Mead\n",
    "    'init': None,   # use 'rand' to have random starting point and use None to start from theta_parameters nominal values (to be avoided in insilico studies)\n",
    "    'eps': 1e-3,  # perturbation size of parameters in SA FDM method (in a normalized to 1 space)\n",
    "    #usually 1e-3, or None to perform a mesh independency test, and auto adjustment\n",
    "    'ob': 'WLS',  #loss function, 'LS': least squares, 'MLE': maximum likelihood, 'Chi': chi-square, 'WLS': weighted least squares\n",
    "    'c_plt': True, # plot the confidence volumes\n",
    "    'f_plt': True, # plot the fitting results\n",
    "    'plt_s': True, # show plots while saving\n",
    "    'log': True # log the results\n",
    "}"
   ],
   "id": "be9f6b984599e7af",
   "outputs": [],
   "execution_count": 68
  },
  {
   "metadata": {
    "ExecuteTime": {
     "end_time": "2025-06-27T13:26:01.454040Z",
     "start_time": "2025-06-27T13:26:01.378363Z"
    }
   },
   "cell_type": "code",
   "source": [
    "from middoe.log_utils import  read_excel\n",
    "data = read_excel('indata')"
   ],
   "id": "a359709c313f1abc",
   "outputs": [
    {
     "name": "stdout",
     "output_type": "stream",
     "text": [
      "[INFO] Reading from indata.xlsx\n"
     ]
    }
   ],
   "execution_count": 65
  },
  {
   "metadata": {
    "jupyter": {
     "is_executing": true
    },
    "ExecuteTime": {
     "start_time": "2025-06-27T13:27:09.148064Z"
    }
   },
   "cell_type": "code",
   "source": [
    "from middoe.iden_parmest import parmest\n",
    "resultpr = parmest(system, models, iden_opt, data)"
   ],
   "id": "b0294ca657d1020",
   "outputs": [],
   "execution_count": null
  },
  {
   "metadata": {
    "ExecuteTime": {
     "end_time": "2025-06-27T13:26:08.080816Z",
     "start_time": "2025-06-27T13:26:07.886908Z"
    }
   },
   "cell_type": "code",
   "source": [
    "from middoe.iden_uncert import uncert\n",
    "uncert_results = uncert(data, resultpr, system, models, iden_opt)\n",
    "resultun = uncert_results['results']\n",
    "theta_parameters = uncert_results['theta_parameters']\n",
    "solver_parameters = uncert_results['solver_parameters']\n",
    "scaled_params = uncert_results['scaled_params']\n",
    "obs = uncert_results['obs']"
   ],
   "id": "5b90030ad643b64c",
   "outputs": [
    {
     "name": "stdout",
     "output_type": "stream",
     "text": [
      "Estimated parameters of M: [0.434, 0.252, 0.9099999999999999, 0.35, 7.0]\n",
      "True parameters of M: [0.434, 0.252, 0.9099999999999999, 0.35, 7.0]\n",
      "LS objective function value for M: 0.9806510304505232\n",
      "T-values of model M: [0.56735425 0.17374414 2.03244744 2.94952284 0.44356642]\n",
      "P-value of model:M is 100.0 for model discrimination\n",
      "R2 values for responses in model M:\n",
      "  y1: 0.9871\n",
      "  y2: 0.9858\n"
     ]
    }
   ],
   "execution_count": 67
  },
  {
   "metadata": {},
   "cell_type": "code",
   "outputs": [],
   "execution_count": null,
   "source": [
    "from middoe.log_utils import  save_rounds\n",
    "round_data={}\n",
    "round = 1\n",
    "save_rounds(round, resultun, theta_parameters, 'preliminary', round_data, models, scaled_params,iden_opt,solver_parameters, obs, data, system)"
   ],
   "id": "334f66c5691c798"
  }
 ],
 "metadata": {
  "kernelspec": {
   "display_name": "Python 3",
   "language": "python",
   "name": "python3"
  },
  "language_info": {
   "codemirror_mode": {
    "name": "ipython",
    "version": 2
   },
   "file_extension": ".py",
   "mimetype": "text/x-python",
   "name": "python",
   "nbconvert_exporter": "python",
   "pygments_lexer": "ipython2",
   "version": "2.7.6"
  }
 },
 "nbformat": 4,
 "nbformat_minor": 5
}
