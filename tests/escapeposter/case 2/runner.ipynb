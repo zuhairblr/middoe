{
 "cells": [
  {
   "cell_type": "code",
   "id": "initial_id",
   "metadata": {
    "collapsed": true
   },
   "source": [
    "theta1 = [0.31, 0.18, 0.65, 0.25, 5]  # true values\n",
    "theta_n1 = [0.372, 0.216, 0.78, 0.3, 6.0] # nominal values +20%\n",
    "theta_min1 = [0.155, 0.09, 0.325, 0.125, 2.5]   # minimum values -50%\n",
    "theta_max1 = [0.465, 0.27, 0.975, 0.375, 7.5]  # maximum values +50%\n",
    "theta_maxs1 = [hi / nom for hi, nom in zip(theta_max1, theta_n1)]\n",
    "theta_mins1 = [lo / nom for lo, nom in zip(theta_min1, theta_n1)]"
   ],
   "outputs": [],
   "execution_count": null
  },
  {
   "metadata": {},
   "cell_type": "code",
   "source": [
    "system = {\n",
    "    'tvi': {  # Time-variant input variables (models input: tvi), each key is a symbol nad key in tvi as well\n",
    "        'u1': {  # Temperature (K)\n",
    "            'stps': 5,  # Number of switching times in CVPs (vector parametrisation resolution in time dimension):\n",
    "            # Must be a positive integer > 1. swps-1 is the number of steps\n",
    "            'const': 'rel',  # Constraint type: relative state of signal levels in CVPs\n",
    "            # 'rel' (relative) ensures relaxation, 'dec' (decreasing) ensures decreasing signal levels, 'inc' (increasing) ensures increasing signal levels\n",
    "            'max': 0.2,  # Maximum allowable signal level, des_opt space upper bound\n",
    "            'min': 0.05,  # Minimum allowable signal level, des_opt space lower bound\n",
    "            'cvp': 'CPF',  # Design CVP method (CPF - constant profile, LPF - linear profile)\n",
    "            'offl': 0.01,  # minimum allowed perturbation of signal (ratio)\n",
    "            'offt': 0.5  # minimum allowed perturbation of time (ratio)\n",
    "        },\n",
    "        'u2': {  # Temperature (K)\n",
    "            'stps': 5,  # Number of switching times in CVPs (vector parametrisation resolution in time dimension):\n",
    "            # Must be a positive integer > 1. swps-1 is the number of steps\n",
    "            'const': 'dec',  # Constraint type: relative state of signal levels in CVPs\n",
    "            # 'rel' (relative) ensures relaxation, 'dec' (decreasing) ensures decreasing signal levels, 'inc' (increasing) ensures increasing signal levels\n",
    "            'max': 35,  # Maximum allowable signal level, des_opt space upper bound\n",
    "            'min': 5,  # Minimum allowable signal level, des_opt space lower bound\n",
    "            'cvp': 'CPF',  # Design CVP method (CPF - constant profile, LPF - linear profile)\n",
    "            'offl': 5,  # minimum allowed perturbation of signal (ratio)\n",
    "            'offt': 0.5  # minimum allowed perturbation of time (ratio)\n",
    "        },\n",
    "    },\n",
    "    'tvo': {  # Time-variant output variables (responses, measured or unmeasured)\n",
    "        'y1': {  # response variable, here carbonation efficiency\n",
    "            'init': 0,  # Initial value for the response variable, it can be a value, or 'variable' for case it is a des_opt decision (time-invariant input variable)\n",
    "            'meas': True,  # Flag indicating if this variable is directly measurable, if False, it is a virtual output\n",
    "            'sp': 6,  # the amound of samples per each round (run)\n",
    "            'unc': 0.05,  # amount of noise (standard deviation) in the measurement, in case of insilico, this is used for simulating a normal distribution of noise to measurement (only measurement)\n",
    "            'offt': 0.5,  # minimum allowed perturbation of sampling times (ratio)\n",
    "            'samp_s': 1,  # Matching criterion for models prediction and data alignment\n",
    "            'samp_f': [0, 10],  # fixed sampling times\n",
    "        },\n",
    "        'y2': {  # response variable, here carbonation efficiency\n",
    "            'init': 0,  # Initial value for the response variable, it can be a value, or 'variable' for case it is a des_opt decision (time-invariant input variable)\n",
    "            'meas': True,  # Flag indicating if this variable is directly measurable, if False, it is a virtual output\n",
    "            'sp': 6,  # the amound of samples per each round (run)\n",
    "            'unc': 0.05,  # amount of noise (standard deviation) in the measurement, in case of insilico, this is used for simulating a normal distribution of noise to measurement (only measurement)\n",
    "            'offt': 0.5,  # minimum allowed perturbation of sampling times (ratio)\n",
    "            'samp_s': 1,  # Matching criterion for models prediction and data alignment\n",
    "            'samp_f': [0, 10],  # fixed sampling times\n",
    "        },\n",
    "    },\n",
    "    'tii': {  # Time-invariant input variables (tii)\n",
    "        'y10': {  # 1st symbolic time-invariant control, Density of solid reactant (kg/m³)\n",
    "            'max': 10,  # Maximum allowable signal level, des_opt space upper bound\n",
    "            'min': 1  # Minimum allowable signal level, des_opt space upper bound\n",
    "        },\n",
    "        'y20': {  # 1st symbolic time-invariant control, Density of solid reactant (kg/m³)\n",
    "            'max': 10,  # Maximum allowable signal level, des_opt space upper bound\n",
    "            'min': 1  # Minimum allowable signal level, des_opt space upper bound\n",
    "        },\n",
    "    },\n",
    "    'tio': {  # Time-invariant output variables (empty here, could hold steady state responses that hold no dependency)\n",
    "    },\n",
    "    't_s': [0, 10],  # Time span  (600 s to 10,800 s), duration of numerical perturbations (the rest is precluded from des_opt)\n",
    "    't_r': 0.02,  # Time resolution (10 s), minimum time steps for the simulation/des_opt/controls\n",
    "    't_d': 0.5\n",
    "}"
   ],
   "id": "d854256ba464cb85",
   "outputs": [],
   "execution_count": null
  },
  {
   "metadata": {},
   "cell_type": "code",
   "source": [
    "models = { # Settings related to the rival models and their parameters\n",
    "    'can_m': ['M'],  # Active solvers (rival models) to be used in the experiment\n",
    "    'krt': {'M': 'pys'},  # Kernel type for each model, 'pys' for python standalone scripts, 'pym' for middoe.krnl_models, 'gpr' for gPAS models\n",
    "    # type of the model interface, 'pym' for middoe.krnl_models, 'gpr' for gPAS models, function name for globally defined functions, 'pys' for python standalone scripts\n",
    "    'creds': {'M': '@@TTmnoa698'},\n",
    "    # credentials for gPAS models, if not needed, leave empty\n",
    "    'src': {'M': 'C:/Users/Tadmin/PycharmProjects/middoe/tests/escapeposter/case 2/model.py'},\n",
    "    # for now for gPAS readable files, or python standalone scripts\n",
    "\n",
    "    'theta': { # Theta parameters for each models\n",
    "        'M': theta_n1\n",
    "    },\n",
    "    't_u': { # Maximum bounds for theta parameters (based on normalized to'f20': theta20mins, 1)\n",
    "        'M': theta_maxs1\n",
    "    },\n",
    "    't_l': { # Minimum bounds for theta parameters (based on normalized to 1)\n",
    "        'M': theta_mins1\n",
    "    }\n",
    "}"
   ],
   "id": "d8f076a8b4184ec8",
   "outputs": [],
   "execution_count": null
  },
  {
   "metadata": {},
   "cell_type": "code",
   "source": [
    "des_opt = { # Design settings for the experiment\n",
    "    'eps': 1e-4, #perturbation size of parameters in SA FDM method (in a normalized to 1 space)\n",
    "    'meth': 'L',  # optimisation method, 'G': Global Differential Evolution, 'L': Local Pattern Search, 'GL': Global Differential Evolution refined with Local Pattern Search\n",
    "    'md_ob': 'BFF',     # MD optimality criterion, 'HR': Hunter and Reiner, 'BFF': Buzzi-Ferraris and Forzatti\n",
    "    'pp_ob': 'D',  # PP optimality criterion, 'D', 'A', 'E', 'ME'\n",
    "    'plt': True,  # Plot the results\n",
    "    'itr': {\n",
    "        'pps': 30, # population size\n",
    "        'maxmd': 60, # maximum number of MD runs\n",
    "        'tolmd': 1, # tolerance for MD optimization\n",
    "        'maxpp':20 ,# maximum number of PP runs\n",
    "        'tolpp': 1, # tolerance for PP optimization\n",
    "    }\n",
    "}"
   ],
   "id": "160dc72dffa8a657",
   "outputs": [],
   "execution_count": null
  },
  {
   "metadata": {},
   "cell_type": "code",
   "source": [
    "from middoe.des_pp import mbdoe_pp\n",
    "designs = mbdoe_pp(des_opt, system, models, round=1, num_parallel_runs=16)"
   ],
   "id": "af86bbc236341317",
   "outputs": [],
   "execution_count": null
  },
  {
   "metadata": {},
   "cell_type": "code",
   "source": [
    "insilicos = { # Settings for the insilico data generation\n",
    "    'tr_m': 'M', # selected true models (with nominal values)\n",
    "    'theta': theta1,\n",
    "    'errt': 'rel',  # error type, 'rel' for relative error, 'abs' for absolute error\n",
    "    'prels': { # classic des_opt settings, sheet name is the round run name, each sheet contains the data for the round, iso space.\n",
    "    }\n",
    "}"
   ],
   "id": "1a52afe778ea3440",
   "outputs": [],
   "execution_count": null
  },
  {
   "metadata": {},
   "cell_type": "code",
   "source": [
    "from middoe.krnl_expera import expera\n",
    "expera(system, models, insilicos, designs, expr=1, swps=designs['swps'])"
   ],
   "id": "ea650ad98d184fed",
   "outputs": [],
   "execution_count": null
  },
  {
   "metadata": {},
   "cell_type": "code",
   "source": [
    "from middoe.log_utils import  read_excel\n",
    "data = read_excel('indata')"
   ],
   "id": "a359709c313f1abc",
   "outputs": [],
   "execution_count": null
  },
  {
   "metadata": {},
   "cell_type": "code",
   "source": [
    "iden_opt = { # Settings for the parameter estimation process\n",
    "    'meth': 'Ls',  # optimisation method, 'G': Global Differential Evolution, 'Ls': Local SLSQP, 'Ln': Local Nelder-Mead\n",
    "    'init': None,   # use 'rand' to have random starting point and use None to start from theta_parameters nominal values (to be avoided in insilico studies)\n",
    "    'eps': 1e-4,  # perturbation size of parameters in SA FDM method (in a normalized to 1 space)\n",
    "    #usually 1e-3, or None to perform a mesh independency test, and auto adjustment\n",
    "    'ob': 'WLS',  #loss function, 'LS': least squares, 'MLE': maximum likelihood, 'Chi': chi-square, 'WLS': weighted least squares\n",
    "    'c_plt': True, # plot the confidence volumes\n",
    "    'f_plt': True, # plot the fitting results\n",
    "    'plt_s': True, # show plots while saving\n",
    "    'log': True # log the results\n",
    "}"
   ],
   "id": "203fa66b811c76b8",
   "outputs": [],
   "execution_count": null
  },
  {
   "metadata": {},
   "cell_type": "code",
   "source": [
    "from middoe.iden_parmest import parmest\n",
    "resultpr = parmest(system, models, iden_opt, data)"
   ],
   "id": "b0294ca657d1020",
   "outputs": [],
   "execution_count": null
  },
  {
   "metadata": {},
   "cell_type": "code",
   "source": [
    "from middoe.iden_uncert import uncert\n",
    "uncert_results = uncert(data, resultpr, system, models, iden_opt)\n",
    "resultun = uncert_results['results']\n",
    "theta_parameters = uncert_results['theta_parameters']\n",
    "solver_parameters = uncert_results['solver_parameters']\n",
    "scaled_params = uncert_results['scaled_params']\n",
    "obs = uncert_results['obs']"
   ],
   "id": "5b90030ad643b64c",
   "outputs": [],
   "execution_count": null
  },
  {
   "metadata": {},
   "cell_type": "code",
   "source": [
    "from middoe.sc_estima import estima\n",
    "j = 1\n",
    "ranking, k_optimal_value, rCC_values, J_k_values, best_uncert_result = estima(resultun, system, models, iden_opt, j, data)"
   ],
   "id": "d1fbd5e7914b4c36",
   "outputs": [],
   "execution_count": null
  },
  {
   "metadata": {},
   "cell_type": "code",
   "source": [
    "from middoe.log_utils import  save_rounds\n",
    "round_data={}\n",
    "round = 1\n",
    "save_rounds(round, resultun, theta_parameters, 'preliminary', round_data, models, scaled_params,iden_opt,solver_parameters, obs, data, system, ranking= ranking, k_optimal_value= k_optimal_value, rCC_values= rCC_values, J_k_values= J_k_values, best_uncert_result=best_uncert_result)"
   ],
   "id": "334f66c5691c798",
   "outputs": [],
   "execution_count": null
  },
  {
   "metadata": {},
   "cell_type": "code",
   "source": "models['theta']={'M': [0.3528264366093005, 0.18033296478485514, 0.680418628766513, 0.244671, 4.644470998803176]}\n",
   "id": "28da92cd4f76af76",
   "outputs": [],
   "execution_count": null
  },
  {
   "metadata": {},
   "cell_type": "code",
   "source": [
    "from middoe.des_pp import mbdoe_pp\n",
    "designs = mbdoe_pp(des_opt, system, models, round=2, num_parallel_runs=16)"
   ],
   "id": "699352269a3266b2",
   "outputs": [],
   "execution_count": null
  },
  {
   "metadata": {},
   "cell_type": "code",
   "source": [
    "from middoe.krnl_expera import expera\n",
    "expera(system, models, insilicos, designs, expr=2, swps=designs['swps'])"
   ],
   "id": "61055f32b2f6d072",
   "outputs": [],
   "execution_count": null
  },
  {
   "metadata": {},
   "cell_type": "code",
   "source": "data = read_excel('indata')",
   "id": "4360896ad78c722d",
   "outputs": [],
   "execution_count": null
  },
  {
   "metadata": {},
   "cell_type": "code",
   "source": "resultpr = parmest(system, models, iden_opt, data)",
   "id": "afa26c9ee17c3275",
   "outputs": [],
   "execution_count": null
  },
  {
   "metadata": {},
   "cell_type": "code",
   "source": [
    "from middoe.iden_uncert import uncert\n",
    "uncert_results = uncert(data, resultpr, system, models, iden_opt)\n",
    "resultun = uncert_results['results']\n",
    "theta_parameters = uncert_results['theta_parameters']\n",
    "solver_parameters = uncert_results['solver_parameters']\n",
    "scaled_params = uncert_results['scaled_params']\n",
    "obs = uncert_results['obs']"
   ],
   "id": "75c7233fba615dc8",
   "outputs": [],
   "execution_count": null
  },
  {
   "metadata": {},
   "cell_type": "code",
   "source": [
    "j = 2\n",
    "ranking, k_optimal_value, rCC_values, J_k_values, best_uncert_result = estima(resultun, system, models, iden_opt, j, data)"
   ],
   "id": "a1286fb20012fac0",
   "outputs": [],
   "execution_count": null
  },
  {
   "metadata": {},
   "cell_type": "code",
   "source": [
    "round = 2\n",
    "save_rounds(round, resultun, theta_parameters, 'preliminary', round_data, models, scaled_params,iden_opt,solver_parameters, obs, data, system, ranking= ranking, k_optimal_value= k_optimal_value, rCC_values= rCC_values, J_k_values= J_k_values, best_uncert_result=best_uncert_result)"
   ],
   "id": "a5c4d6119597d342",
   "outputs": [],
   "execution_count": null
  },
  {
   "metadata": {},
   "cell_type": "code",
   "source": "models['theta']={'M': [0.3304, 0.17987166628885992, 0.6603, 0.2448, 4.570057253311504]}",
   "id": "c862f1ec3e1303d3",
   "outputs": [],
   "execution_count": null
  },
  {
   "metadata": {},
   "cell_type": "code",
   "source": [
    "from middoe.des_pp import mbdoe_pp\n",
    "designs = mbdoe_pp(des_opt, system, models, round=3, num_parallel_runs=16)"
   ],
   "id": "6ae37e70fe7c5920",
   "outputs": [],
   "execution_count": null
  },
  {
   "metadata": {},
   "cell_type": "code",
   "source": [
    "from middoe.krnl_expera import expera\n",
    "expera(system, models, insilicos, designs, expr=3, swps=designs['swps'])"
   ],
   "id": "d9a50d0232f15ce5",
   "outputs": [],
   "execution_count": null
  },
  {
   "metadata": {},
   "cell_type": "code",
   "source": "data = read_excel('indata')",
   "id": "403d34c114b2afd1",
   "outputs": [],
   "execution_count": null
  },
  {
   "metadata": {},
   "cell_type": "code",
   "source": "resultpr = parmest(system, models, iden_opt, data)",
   "id": "8dc58d644fc97fae",
   "outputs": [],
   "execution_count": null
  },
  {
   "metadata": {},
   "cell_type": "code",
   "source": [
    "from middoe.iden_uncert import uncert\n",
    "uncert_results = uncert(data, resultpr, system, models, iden_opt)\n",
    "resultun = uncert_results['results']\n",
    "theta_parameters = uncert_results['theta_parameters']\n",
    "solver_parameters = uncert_results['solver_parameters']\n",
    "scaled_params = uncert_results['scaled_params']\n",
    "obs = uncert_results['obs']"
   ],
   "id": "313d95d274be1a88",
   "outputs": [],
   "execution_count": null
  },
  {
   "metadata": {},
   "cell_type": "code",
   "source": [
    "j = 3\n",
    "ranking, k_optimal_value, rCC_values, J_k_values, best_uncert_result = estima(resultun, system, models, iden_opt, j, data)"
   ],
   "id": "c796f9d5769774ac",
   "outputs": [],
   "execution_count": null
  },
  {
   "metadata": {},
   "cell_type": "code",
   "source": [
    "round = 3\n",
    "save_rounds(round, resultun, theta_parameters, 'preliminary', round_data, models, scaled_params,iden_opt,solver_parameters, obs, data, system, ranking= ranking, k_optimal_value= k_optimal_value, rCC_values= rCC_values, J_k_values= J_k_values, best_uncert_result=best_uncert_result)"
   ],
   "id": "dc40d84eed2ea72c",
   "outputs": [],
   "execution_count": null
  },
  {
   "metadata": {},
   "cell_type": "code",
   "source": "models['theta']={'M': [0.3359, 0.1780, 0.6392, 0.2431, 4.569533833823681]}\n",
   "id": "13d634ce04b9a0c5",
   "outputs": [],
   "execution_count": null
  },
  {
   "metadata": {},
   "cell_type": "code",
   "source": [
    "from middoe.des_pp import mbdoe_pp\n",
    "designs = mbdoe_pp(des_opt, system, models, round=4, num_parallel_runs=16)"
   ],
   "id": "a03468f8a152857a",
   "outputs": [],
   "execution_count": null
  },
  {
   "metadata": {},
   "cell_type": "code",
   "source": [
    "from middoe.krnl_expera import expera\n",
    "expera(system, models, insilicos, designs, expr=4, swps=designs['swps'])"
   ],
   "id": "e83887eebb804f63",
   "outputs": [],
   "execution_count": null
  },
  {
   "metadata": {},
   "cell_type": "code",
   "source": "data = read_excel('indata')",
   "id": "33fd60e0117dcf0",
   "outputs": [],
   "execution_count": null
  },
  {
   "metadata": {},
   "cell_type": "code",
   "source": "resultpr = parmest(system, models, iden_opt, data)",
   "id": "f5c54e4b034bfa5d",
   "outputs": [],
   "execution_count": null
  },
  {
   "metadata": {},
   "cell_type": "code",
   "source": [
    "from middoe.iden_uncert import uncert\n",
    "uncert_results = uncert(data, resultpr, system, models, iden_opt)\n",
    "resultun = uncert_results['results']\n",
    "theta_parameters = uncert_results['theta_parameters']\n",
    "solver_parameters = uncert_results['solver_parameters']\n",
    "scaled_params = uncert_results['scaled_params']\n",
    "obs = uncert_results['obs']"
   ],
   "id": "2dac6e96e4d0c118",
   "outputs": [],
   "execution_count": null
  },
  {
   "metadata": {},
   "cell_type": "code",
   "source": [
    "j = 4\n",
    "ranking, k_optimal_value, rCC_values, J_k_values, best_uncert_result = estima(resultun, system, models, iden_opt, j, data)"
   ],
   "id": "cea64cfea6c1139d",
   "outputs": [],
   "execution_count": null
  },
  {
   "metadata": {},
   "cell_type": "code",
   "source": [
    "round = 4\n",
    "save_rounds(round, resultun, theta_parameters, 'preliminary', round_data, models, scaled_params,iden_opt,solver_parameters, obs, data, system, ranking= ranking, k_optimal_value= k_optimal_value, rCC_values= rCC_values, J_k_values= J_k_values, best_uncert_result=best_uncert_result)"
   ],
   "id": "961a2797d1326d76",
   "outputs": [],
   "execution_count": null
  },
  {
   "metadata": {},
   "cell_type": "code",
   "source": [
    "from middoe.log_utils import save_to_jac\n",
    "save_to_jac(round_data, purpose=\"iden\")"
   ],
   "id": "d89c7452f63a20b6",
   "outputs": [],
   "execution_count": null
  },
  {
   "metadata": {},
   "cell_type": "code",
   "source": [
    "\n",
    "from middoe.log_utils import load_from_jac\n",
    "\n",
    "results = load_from_jac()\n",
    "iden = results['iden']\n",
    "\n",
    "from middoe.iden_utils import run_postprocessing\n",
    "run_postprocessing(\n",
    "    round_data=results['iden'],\n",
    "    solvers=['M'],\n",
    "    selected_rounds=[ 1, 2, 3, 4],\n",
    "    plot_global_p_and_t=True,\n",
    "    plot_confidence_spaces=True,\n",
    "    plot_p_and_t_tests=True,\n",
    "    export_excel_reports=True,\n",
    "    plot_estimability=True\n",
    ")"
   ],
   "id": "4352c290186e321e",
   "outputs": [],
   "execution_count": null
  }
 ],
 "metadata": {
  "kernelspec": {
   "display_name": "Python 3",
   "language": "python",
   "name": "python3"
  },
  "language_info": {
   "codemirror_mode": {
    "name": "ipython",
    "version": 2
   },
   "file_extension": ".py",
   "mimetype": "text/x-python",
   "name": "python",
   "nbconvert_exporter": "python",
   "pygments_lexer": "ipython2",
   "version": "2.7.6"
  }
 },
 "nbformat": 4,
 "nbformat_minor": 5
}
