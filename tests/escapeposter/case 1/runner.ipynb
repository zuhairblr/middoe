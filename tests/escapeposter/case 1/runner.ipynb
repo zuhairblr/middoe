{
 "cells": [
  {
   "cell_type": "code",
   "id": "initial_id",
   "metadata": {
    "collapsed": true,
    "tags": [
     "theta"
    ]
   },
   "source": [
    "theta1 = [0.31, 0.18, 0.65, 0.25, 5]  # true values\n",
    "theta_n1 = [0.372, 0.216, 0.78, 0.3, 6.0] # nominal values +20%\n",
    "theta_min1 = [0.155, 0.09, 0.325, 0.125, 2.5]   # minimum values -50%\n",
    "theta_max1 = [0.465, 0.27, 0.975, 0.375, 7.5]  # maximum values +50%\n",
    "theta_maxs1 = [hi / nom for hi, nom in zip(theta_max1, theta_n1)]\n",
    "theta_mins1 = [lo / nom for lo, nom in zip(theta_min1, theta_n1)]"
   ],
   "outputs": [],
   "execution_count": null
  },
  {
   "metadata": {},
   "cell_type": "code",
   "source": [
    "system = {\n",
    "    'tvi': {  # Time-variant input variables (models input: tvi), each key is a symbol nad key in tvi as well\n",
    "        'u1': {  # Temperature (K)\n",
    "            'stps': 5,  # Number of switching times in CVPs (vector parametrisation resolution in time dimension):\n",
    "            # Must be a positive integer > 1. swps-1 is the number of steps\n",
    "            'const': 'rel',  # Constraint type: relative state of signal levels in CVPs\n",
    "            # 'rel' (relative) ensures relaxation, 'dec' (decreasing) ensures decreasing signal levels, 'inc' (increasing) ensures increasing signal levels\n",
    "            'max': 0.2,  # Maximum allowable signal level, des_opt space upper bound\n",
    "            'min': 0.05,  # Minimum allowable signal level, des_opt space lower bound\n",
    "            'cvp': 'CPF',  # Design CVP method (CPF - constant profile, LPF - linear profile)\n",
    "            'offl': 0.01,  # minimum allowed perturbation of signal (ratio)\n",
    "            'offt': 0.5  # minimum allowed perturbation of time (ratio)\n",
    "        },\n",
    "        'u2': {  # Temperature (K)\n",
    "            'stps': 5,  # Number of switching times in CVPs (vector parametrisation resolution in time dimension):\n",
    "            # Must be a positive integer > 1. swps-1 is the number of steps\n",
    "            'const': 'dec',  # Constraint type: relative state of signal levels in CVPs\n",
    "            # 'rel' (relative) ensures relaxation, 'dec' (decreasing) ensures decreasing signal levels, 'inc' (increasing) ensures increasing signal levels\n",
    "            'max': 35,  # Maximum allowable signal level, des_opt space upper bound\n",
    "            'min': 5,  # Minimum allowable signal level, des_opt space lower bound\n",
    "            'cvp': 'CPF',  # Design CVP method (CPF - constant profile, LPF - linear profile)\n",
    "            'offl': 5,  # minimum allowed perturbation of signal (ratio)\n",
    "            'offt': 0.5  # minimum allowed perturbation of time (ratio)\n",
    "        },\n",
    "    },\n",
    "    'tvo': {  # Time-variant output variables (responses, measured or unmeasured)\n",
    "        'y1': {  # response variable, here carbonation efficiency\n",
    "            'init': 0,  # Initial value for the response variable, it can be a value, or 'variable' for case it is a des_opt decision (time-invariant input variable)\n",
    "            'meas': True,  # Flag indicating if this variable is directly measurable, if False, it is a virtual output\n",
    "            'sp': 6,  # the amound of samples per each round (run)\n",
    "            'unc': 0.05,  # amount of noise (standard deviation) in the measurement, in case of insilico, this is used for simulating a normal distribution of noise to measurement (only measurement)\n",
    "            'offt': 0.5,  # minimum allowed perturbation of sampling times (ratio)\n",
    "            'samp_s': 1,  # Matching criterion for models prediction and data alignment\n",
    "            'samp_f': [0, 10],  # fixed sampling times\n",
    "        },\n",
    "        'y2': {  # response variable, here carbonation efficiency\n",
    "            'init': 0,  # Initial value for the response variable, it can be a value, or 'variable' for case it is a des_opt decision (time-invariant input variable)\n",
    "            'meas': True,  # Flag indicating if this variable is directly measurable, if False, it is a virtual output\n",
    "            'sp': 6,  # the amound of samples per each round (run)\n",
    "            'unc': 0.05,  # amount of noise (standard deviation) in the measurement, in case of insilico, this is used for simulating a normal distribution of noise to measurement (only measurement)\n",
    "            'offt': 0.5,  # minimum allowed perturbation of sampling times (ratio)\n",
    "            'samp_s': 1,  # Matching criterion for models prediction and data alignment\n",
    "            'samp_f': [0, 10],  # fixed sampling times\n",
    "        },\n",
    "    },\n",
    "    'tii': {  # Time-invariant input variables (tii)\n",
    "        'y10': {  # 1st symbolic time-invariant control, Density of solid reactant (kg/m³)\n",
    "            'max': 10,  # Maximum allowable signal level, des_opt space upper bound\n",
    "            'min': 1  # Minimum allowable signal level, des_opt space upper bound\n",
    "        },\n",
    "        'y20': {  # 1st symbolic time-invariant control, Density of solid reactant (kg/m³)\n",
    "            'max': 10,  # Maximum allowable signal level, des_opt space upper bound\n",
    "            'min': 1  # Minimum allowable signal level, des_opt space upper bound\n",
    "        },\n",
    "    },\n",
    "    'tio': {  # Time-invariant output variables (empty here, could hold steady state responses that hold no dependency)\n",
    "    },\n",
    "    't_s': [0, 10],  # Time span  (600 s to 10,800 s), duration of numerical perturbations (the rest is precluded from des_opt)\n",
    "    't_r': 0.02,  # Time resolution (10 s), minimum time steps for the simulation/des_opt/controls\n",
    "    't_d': 0.5\n",
    "}"
   ],
   "id": "d854256ba464cb85",
   "outputs": [],
   "execution_count": null
  },
  {
   "metadata": {},
   "cell_type": "code",
   "source": [
    "models = { # Settings related to the rival models and their parameters\n",
    "    'can_m': ['M'],  # Active solvers (rival models) to be used in the experiment\n",
    "    'krt': {'M': 'pys'},  # Kernel type for each model, 'pys' for python standalone scripts, 'pym' for middoe.krnl_models, 'gpr' for gPAS models\n",
    "    # type of the model interface, 'pym' for middoe.krnl_models, 'gpr' for gPAS models, function name for globally defined functions, 'pys' for python standalone scripts\n",
    "    'creds': {'M': '@@TTmnoa698'},\n",
    "    # credentials for gPAS models, if not needed, leave empty\n",
    "    'src': {'M': 'C:/Users/Tadmin/PycharmProjects/middoe/tests/escapeposter/case 1/model.py'},\n",
    "    # for now for gPAS readable files, or python standalone scripts\n",
    "\n",
    "    'theta': { # Theta parameters for each models\n",
    "        'M': theta_n1\n",
    "    },\n",
    "    't_u': { # Maximum bounds for theta parameters (based on normalized to'f20': theta20mins, 1)\n",
    "        'M': theta_maxs1\n",
    "    },\n",
    "    't_l': { # Minimum bounds for theta parameters (based on normalized to 1)\n",
    "        'M': theta_mins1\n",
    "    }\n",
    "}"
   ],
   "id": "d8f076a8b4184ec8",
   "outputs": [],
   "execution_count": null
  },
  {
   "metadata": {},
   "cell_type": "code",
   "source": [
    "insilicos = { # Settings for the insilico data generation\n",
    "    'tr_m': 'M', # selected true models (with nominal values)\n",
    "    'theta': theta1,\n",
    "    'errt': 'rel',  # error type, 'rel' for relative error, 'abs' for absolute error\n",
    "    'prels': {\n",
    "        '1': {'u1': 0.125, 'u2':20, 'y10': 5.5, 'y20': 5.5},\n",
    "        '2': {'u1': 0.2, 'u2':35, 'y10': 10, 'y20': 10},\n",
    "    }\n",
    "}"
   ],
   "id": "1a52afe778ea3440",
   "outputs": [],
   "execution_count": null
  },
  {
   "metadata": {},
   "cell_type": "code",
   "source": [
    "from middoe.krnl_expera import expera\n",
    "expera(system, models, insilicos, design_decisions={}, expr=1)"
   ],
   "id": "ea650ad98d184fed",
   "outputs": [],
   "execution_count": null
  },
  {
   "metadata": {},
   "cell_type": "code",
   "source": "expera(system, models, insilicos, design_decisions={}, expr=2)",
   "id": "ff817e629d6dd851",
   "outputs": [],
   "execution_count": null
  },
  {
   "metadata": {},
   "cell_type": "code",
   "source": [
    "from middoe.log_utils import  read_excel\n",
    "data = read_excel('indata')"
   ],
   "id": "a359709c313f1abc",
   "outputs": [],
   "execution_count": null
  },
  {
   "metadata": {},
   "cell_type": "code",
   "source": [
    "iden_opt = { # Settings for the parameter estimation process\n",
    "    'meth': 'SQP',  # optimisation method, 'G': Global Differential Evolution, 'Ls': Local SLSQP, 'Ln': Local Nelder-Mead\n",
    "    'init': None,   # use 'rand' to have random starting point and use None to start from theta_parameters nominal values (to be avoided in insilico studies)\n",
    "    'eps': 1e-4,  # perturbation size of parameters in SA FDM method (in a normalized to 1 space)\n",
    "    #usually 1e-3, or None to perform a mesh independency test, and auto adjustment\n",
    "    'ob': 'WLS',  #loss function, 'LS': least squares, 'MLE': maximum likelihood, 'Chi': chi-square, 'WLS': weighted least squares\n",
    "    'c_plt': True, # plot the confidence volumes\n",
    "    'f_plt': True, # plot the fitting results\n",
    "    'plt_s': True, # show plots while saving\n",
    "    'log': True # log the results\n",
    "}"
   ],
   "id": "203fa66b811c76b8",
   "outputs": [],
   "execution_count": null
  },
  {
   "metadata": {},
   "cell_type": "code",
   "source": [
    "from middoe.iden_parmest import parmest\n",
    "resultpr = parmest(system, models, iden_opt, data)"
   ],
   "id": "b0294ca657d1020",
   "outputs": [],
   "execution_count": null
  },
  {
   "metadata": {},
   "cell_type": "code",
   "source": [
    "from middoe.iden_uncert import uncert\n",
    "uncert_results = uncert(data, resultpr, system, models, iden_opt)\n",
    "resultun = uncert_results['results']\n",
    "obs = uncert_results['obs']"
   ],
   "id": "5b90030ad643b64c",
   "outputs": [],
   "execution_count": null
  },
  {
   "metadata": {},
   "cell_type": "code",
   "source": [
    "from middoe.sc_estima import estima\n",
    "j = 2\n",
    "ranking, k_optimal_value, rCC_values, J_k_values, best_uncert_result = estima(resultun, system, models, iden_opt, j, data)"
   ],
   "id": "d1fbd5e7914b4c36",
   "outputs": [],
   "execution_count": null
  },
  {
   "metadata": {},
   "cell_type": "code",
   "source": [
    "from middoe.log_utils import  save_rounds\n",
    "round_data={}\n",
    "round = 1\n",
    "# save_rounds(round, resultun,  'preliminary', round_data, models, iden_opt, obs, data, system, ranking= ranking, k_optimal_value= k_optimal_value, rCC_values= rCC_values, J_k_values= J_k_values, best_uncert_result=best_uncert_result)\n",
    "save_rounds(round, resultun,  'preliminary', round_data, models, iden_opt, obs, data, system)"
   ],
   "id": "334f66c5691c798",
   "outputs": [],
   "execution_count": null
  },
  {
   "metadata": {},
   "cell_type": "code",
   "source": [
    "from middoe.log_utils import save_to_jac\n",
    "save_to_jac(round_data, purpose=\"iden\")"
   ],
   "id": "d89c7452f63a20b6",
   "outputs": [],
   "execution_count": null
  },
  {
   "metadata": {},
   "cell_type": "code",
   "source": [
    "\n",
    "from middoe.log_utils import load_from_jac\n",
    "\n",
    "results = load_from_jac()\n",
    "iden = results['iden']\n",
    "\n",
    "from middoe.iden_utils import run_postprocessing\n",
    "run_postprocessing(\n",
    "    round_data=results['iden'],\n",
    "    solvers=['M'],\n",
    "    selected_rounds=[ 1],\n",
    "    plot_global_p_and_t=True,\n",
    "    plot_confidence_spaces=True,\n",
    "    plot_p_and_t_tests=True,\n",
    "    export_excel_reports=True,\n",
    "    plot_estimability=True\n",
    ")"
   ],
   "id": "4352c290186e321e",
   "outputs": [],
   "execution_count": null
  }
 ],
 "metadata": {
  "kernelspec": {
   "display_name": "Python 3",
   "language": "python",
   "name": "python3"
  },
  "language_info": {
   "codemirror_mode": {
    "name": "ipython",
    "version": 2
   },
   "file_extension": ".py",
   "mimetype": "text/x-python",
   "name": "python",
   "nbconvert_exporter": "python",
   "pygments_lexer": "ipython2",
   "version": "2.7.6"
  }
 },
 "nbformat": 4,
 "nbformat_minor": 5
}
